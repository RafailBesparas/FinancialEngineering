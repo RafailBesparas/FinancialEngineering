{
 "cells": [
  {
   "cell_type": "markdown",
   "id": "a99b6953-4bf8-459d-8ef2-5f2ab9fe76df",
   "metadata": {},
   "source": [
    "Section 1: Pandas Basics"
   ]
  },
  {
   "cell_type": "code",
   "execution_count": 53,
   "id": "562525c8-f2ad-469f-9045-a9844b867da1",
   "metadata": {},
   "outputs": [],
   "source": [
    "# Import pandas library and dataset\n",
    "import pandas as pd\n",
    "\n",
    "#from the listing csv import the relevant data\n",
    "listings = pd.read_csv(\"listings.csv\")"
   ]
  },
  {
   "cell_type": "markdown",
   "id": "ffda7038-e9cf-45a7-b164-43bc4e071cc2",
   "metadata": {},
   "source": [
    "Check the data Listings "
   ]
  },
  {
   "cell_type": "code",
   "execution_count": 54,
   "id": "f0bc1af1-c5b3-431d-9140-5e5e67ca86d3",
   "metadata": {},
   "outputs": [
    {
     "data": {
      "text/html": [
       "<div>\n",
       "<style scoped>\n",
       "    .dataframe tbody tr th:only-of-type {\n",
       "        vertical-align: middle;\n",
       "    }\n",
       "\n",
       "    .dataframe tbody tr th {\n",
       "        vertical-align: top;\n",
       "    }\n",
       "\n",
       "    .dataframe thead th {\n",
       "        text-align: right;\n",
       "    }\n",
       "</style>\n",
       "<table border=\"1\" class=\"dataframe\">\n",
       "  <thead>\n",
       "    <tr style=\"text-align: right;\">\n",
       "      <th></th>\n",
       "      <th>Symbol</th>\n",
       "      <th>Exchange</th>\n",
       "      <th>Name</th>\n",
       "      <th>Last_Price</th>\n",
       "      <th>Market_Cap</th>\n",
       "      <th>ADR TSO</th>\n",
       "      <th>IPO_Year</th>\n",
       "      <th>Sector</th>\n",
       "      <th>Industry</th>\n",
       "    </tr>\n",
       "  </thead>\n",
       "  <tbody>\n",
       "    <tr>\n",
       "      <th>0</th>\n",
       "      <td>A</td>\n",
       "      <td>NYSE</td>\n",
       "      <td>Agilent Technologies, Inc.</td>\n",
       "      <td>81.68</td>\n",
       "      <td>25934696179.92</td>\n",
       "      <td>NaN</td>\n",
       "      <td>1999.00</td>\n",
       "      <td>Capital Goods</td>\n",
       "      <td>Biotechnology: Laboratory Analytical Instruments</td>\n",
       "    </tr>\n",
       "    <tr>\n",
       "      <th>1</th>\n",
       "      <td>AA</td>\n",
       "      <td>NYSE</td>\n",
       "      <td>Alcoa Corporation</td>\n",
       "      <td>29.15</td>\n",
       "      <td>5407809589.60</td>\n",
       "      <td>NaN</td>\n",
       "      <td>2016.00</td>\n",
       "      <td>Basic Industries</td>\n",
       "      <td>Aluminum</td>\n",
       "    </tr>\n",
       "    <tr>\n",
       "      <th>2</th>\n",
       "      <td>AABA</td>\n",
       "      <td>NASDAQ</td>\n",
       "      <td>Altaba Inc.</td>\n",
       "      <td>75.39</td>\n",
       "      <td>42781131315.30</td>\n",
       "      <td>NaN</td>\n",
       "      <td>NaN</td>\n",
       "      <td>Technology</td>\n",
       "      <td>EDP Services</td>\n",
       "    </tr>\n",
       "    <tr>\n",
       "      <th>3</th>\n",
       "      <td>AAC</td>\n",
       "      <td>NYSE</td>\n",
       "      <td>AAC Holdings, Inc.</td>\n",
       "      <td>2.16</td>\n",
       "      <td>53141086.80</td>\n",
       "      <td>NaN</td>\n",
       "      <td>2014.00</td>\n",
       "      <td>Health Care</td>\n",
       "      <td>Medical Specialities</td>\n",
       "    </tr>\n",
       "    <tr>\n",
       "      <th>4</th>\n",
       "      <td>AAL</td>\n",
       "      <td>NASDAQ</td>\n",
       "      <td>American Airlines Group, Inc.</td>\n",
       "      <td>34.02</td>\n",
       "      <td>15276869742.96</td>\n",
       "      <td>NaN</td>\n",
       "      <td>NaN</td>\n",
       "      <td>Transportation</td>\n",
       "      <td>Air Freight/Delivery Services</td>\n",
       "    </tr>\n",
       "  </tbody>\n",
       "</table>\n",
       "</div>"
      ],
      "text/plain": [
       "  Symbol Exchange                           Name  Last_Price     Market_Cap  \\\n",
       "0      A     NYSE     Agilent Technologies, Inc.       81.68 25934696179.92   \n",
       "1     AA     NYSE              Alcoa Corporation       29.15  5407809589.60   \n",
       "2   AABA   NASDAQ                    Altaba Inc.       75.39 42781131315.30   \n",
       "3    AAC     NYSE             AAC Holdings, Inc.        2.16    53141086.80   \n",
       "4    AAL   NASDAQ  American Airlines Group, Inc.       34.02 15276869742.96   \n",
       "\n",
       "   ADR TSO  IPO_Year            Sector  \\\n",
       "0      NaN   1999.00     Capital Goods   \n",
       "1      NaN   2016.00  Basic Industries   \n",
       "2      NaN       NaN        Technology   \n",
       "3      NaN   2014.00       Health Care   \n",
       "4      NaN       NaN    Transportation   \n",
       "\n",
       "                                           Industry  \n",
       "0  Biotechnology: Laboratory Analytical Instruments  \n",
       "1                                          Aluminum  \n",
       "2                                      EDP Services  \n",
       "3                              Medical Specialities  \n",
       "4                     Air Freight/Delivery Services  "
      ]
     },
     "execution_count": 54,
     "metadata": {},
     "output_type": "execute_result"
    }
   ],
   "source": [
    "listings.head()"
   ]
  },
  {
   "cell_type": "markdown",
   "id": "289da030-38f2-4a9e-9beb-e6ef7794dab5",
   "metadata": {},
   "source": [
    "Details on the columns\n",
    "1. Symbol: A Stock Ticker Symbol is an abbreviation used to uniquely identify publicly traded shares of a particular stock on a particular stock market\n",
    "2. Exchange: Marketplace in which shares are traded\n",
    "3. Name: Legal Company Name\n",
    "4. Last_Price: Last Trading Price (as of April 2019)\n",
    "5. Market_Cap: Dollar Value of Outstanding Shares (as of April 2019). Computed as Shares times current Price.\n",
    "6. ADR_TSO: Additional Information on foreign stocks trading in the US\n",
    "7. IPO_Year: Year of Initial Public Offering\n",
    "8. Sector: Sector of main business activity\n",
    "9. Industry: Industry of main business activity"
   ]
  },
  {
   "cell_type": "markdown",
   "id": "2c956e93-2ea2-407f-8dcc-5c2280c49d3c",
   "metadata": {},
   "source": [
    "Inspect the first 10 rows"
   ]
  },
  {
   "cell_type": "code",
   "execution_count": 55,
   "id": "e6fbcde4-16d7-4de3-96f5-aa633c9aaba9",
   "metadata": {},
   "outputs": [
    {
     "data": {
      "text/html": [
       "<div>\n",
       "<style scoped>\n",
       "    .dataframe tbody tr th:only-of-type {\n",
       "        vertical-align: middle;\n",
       "    }\n",
       "\n",
       "    .dataframe tbody tr th {\n",
       "        vertical-align: top;\n",
       "    }\n",
       "\n",
       "    .dataframe thead th {\n",
       "        text-align: right;\n",
       "    }\n",
       "</style>\n",
       "<table border=\"1\" class=\"dataframe\">\n",
       "  <thead>\n",
       "    <tr style=\"text-align: right;\">\n",
       "      <th></th>\n",
       "      <th>Symbol</th>\n",
       "      <th>Exchange</th>\n",
       "      <th>Name</th>\n",
       "      <th>Last_Price</th>\n",
       "      <th>Market_Cap</th>\n",
       "      <th>ADR TSO</th>\n",
       "      <th>IPO_Year</th>\n",
       "      <th>Sector</th>\n",
       "      <th>Industry</th>\n",
       "    </tr>\n",
       "  </thead>\n",
       "  <tbody>\n",
       "    <tr>\n",
       "      <th>0</th>\n",
       "      <td>A</td>\n",
       "      <td>NYSE</td>\n",
       "      <td>Agilent Technologies, Inc.</td>\n",
       "      <td>81.68</td>\n",
       "      <td>25934696179.92</td>\n",
       "      <td>NaN</td>\n",
       "      <td>1999.00</td>\n",
       "      <td>Capital Goods</td>\n",
       "      <td>Biotechnology: Laboratory Analytical Instruments</td>\n",
       "    </tr>\n",
       "    <tr>\n",
       "      <th>1</th>\n",
       "      <td>AA</td>\n",
       "      <td>NYSE</td>\n",
       "      <td>Alcoa Corporation</td>\n",
       "      <td>29.15</td>\n",
       "      <td>5407809589.60</td>\n",
       "      <td>NaN</td>\n",
       "      <td>2016.00</td>\n",
       "      <td>Basic Industries</td>\n",
       "      <td>Aluminum</td>\n",
       "    </tr>\n",
       "    <tr>\n",
       "      <th>2</th>\n",
       "      <td>AABA</td>\n",
       "      <td>NASDAQ</td>\n",
       "      <td>Altaba Inc.</td>\n",
       "      <td>75.39</td>\n",
       "      <td>42781131315.30</td>\n",
       "      <td>NaN</td>\n",
       "      <td>NaN</td>\n",
       "      <td>Technology</td>\n",
       "      <td>EDP Services</td>\n",
       "    </tr>\n",
       "    <tr>\n",
       "      <th>3</th>\n",
       "      <td>AAC</td>\n",
       "      <td>NYSE</td>\n",
       "      <td>AAC Holdings, Inc.</td>\n",
       "      <td>2.16</td>\n",
       "      <td>53141086.80</td>\n",
       "      <td>NaN</td>\n",
       "      <td>2014.00</td>\n",
       "      <td>Health Care</td>\n",
       "      <td>Medical Specialities</td>\n",
       "    </tr>\n",
       "    <tr>\n",
       "      <th>4</th>\n",
       "      <td>AAL</td>\n",
       "      <td>NASDAQ</td>\n",
       "      <td>American Airlines Group, Inc.</td>\n",
       "      <td>34.02</td>\n",
       "      <td>15276869742.96</td>\n",
       "      <td>NaN</td>\n",
       "      <td>NaN</td>\n",
       "      <td>Transportation</td>\n",
       "      <td>Air Freight/Delivery Services</td>\n",
       "    </tr>\n",
       "    <tr>\n",
       "      <th>5</th>\n",
       "      <td>AAMC</td>\n",
       "      <td>AMEX</td>\n",
       "      <td>Altisource Asset Management Corp</td>\n",
       "      <td>29.90</td>\n",
       "      <td>47381573.20</td>\n",
       "      <td>NaN</td>\n",
       "      <td>NaN</td>\n",
       "      <td>Finance</td>\n",
       "      <td>Real Estate</td>\n",
       "    </tr>\n",
       "    <tr>\n",
       "      <th>6</th>\n",
       "      <td>AAME</td>\n",
       "      <td>NASDAQ</td>\n",
       "      <td>Atlantic American Corporation</td>\n",
       "      <td>2.48</td>\n",
       "      <td>49983983.36</td>\n",
       "      <td>NaN</td>\n",
       "      <td>NaN</td>\n",
       "      <td>Finance</td>\n",
       "      <td>Life Insurance</td>\n",
       "    </tr>\n",
       "    <tr>\n",
       "      <th>7</th>\n",
       "      <td>AAN</td>\n",
       "      <td>NYSE</td>\n",
       "      <td>Aaron&amp;#39;s,  Inc.</td>\n",
       "      <td>53.54</td>\n",
       "      <td>3628837653.64</td>\n",
       "      <td>NaN</td>\n",
       "      <td>NaN</td>\n",
       "      <td>Technology</td>\n",
       "      <td>Diversified Commercial Services</td>\n",
       "    </tr>\n",
       "    <tr>\n",
       "      <th>8</th>\n",
       "      <td>AAOI</td>\n",
       "      <td>NASDAQ</td>\n",
       "      <td>Applied Optoelectronics, Inc.</td>\n",
       "      <td>12.30</td>\n",
       "      <td>244556139.90</td>\n",
       "      <td>NaN</td>\n",
       "      <td>2013.00</td>\n",
       "      <td>Technology</td>\n",
       "      <td>Semiconductors</td>\n",
       "    </tr>\n",
       "    <tr>\n",
       "      <th>9</th>\n",
       "      <td>AAON</td>\n",
       "      <td>NASDAQ</td>\n",
       "      <td>AAON, Inc.</td>\n",
       "      <td>44.88</td>\n",
       "      <td>2336955141.84</td>\n",
       "      <td>NaN</td>\n",
       "      <td>NaN</td>\n",
       "      <td>Capital Goods</td>\n",
       "      <td>Industrial Machinery/Components</td>\n",
       "    </tr>\n",
       "  </tbody>\n",
       "</table>\n",
       "</div>"
      ],
      "text/plain": [
       "  Symbol Exchange                              Name  Last_Price  \\\n",
       "0      A     NYSE        Agilent Technologies, Inc.       81.68   \n",
       "1     AA     NYSE                 Alcoa Corporation       29.15   \n",
       "2   AABA   NASDAQ                       Altaba Inc.       75.39   \n",
       "3    AAC     NYSE                AAC Holdings, Inc.        2.16   \n",
       "4    AAL   NASDAQ     American Airlines Group, Inc.       34.02   \n",
       "5   AAMC     AMEX  Altisource Asset Management Corp       29.90   \n",
       "6   AAME   NASDAQ     Atlantic American Corporation        2.48   \n",
       "7    AAN     NYSE                Aaron&#39;s,  Inc.       53.54   \n",
       "8   AAOI   NASDAQ     Applied Optoelectronics, Inc.       12.30   \n",
       "9   AAON   NASDAQ                        AAON, Inc.       44.88   \n",
       "\n",
       "      Market_Cap  ADR TSO  IPO_Year            Sector  \\\n",
       "0 25934696179.92      NaN   1999.00     Capital Goods   \n",
       "1  5407809589.60      NaN   2016.00  Basic Industries   \n",
       "2 42781131315.30      NaN       NaN        Technology   \n",
       "3    53141086.80      NaN   2014.00       Health Care   \n",
       "4 15276869742.96      NaN       NaN    Transportation   \n",
       "5    47381573.20      NaN       NaN           Finance   \n",
       "6    49983983.36      NaN       NaN           Finance   \n",
       "7  3628837653.64      NaN       NaN        Technology   \n",
       "8   244556139.90      NaN   2013.00        Technology   \n",
       "9  2336955141.84      NaN       NaN     Capital Goods   \n",
       "\n",
       "                                           Industry  \n",
       "0  Biotechnology: Laboratory Analytical Instruments  \n",
       "1                                          Aluminum  \n",
       "2                                      EDP Services  \n",
       "3                              Medical Specialities  \n",
       "4                     Air Freight/Delivery Services  \n",
       "5                                       Real Estate  \n",
       "6                                    Life Insurance  \n",
       "7                   Diversified Commercial Services  \n",
       "8                                    Semiconductors  \n",
       "9                   Industrial Machinery/Components  "
      ]
     },
     "execution_count": 55,
     "metadata": {},
     "output_type": "execute_result"
    }
   ],
   "source": [
    "listings.head(10)"
   ]
  },
  {
   "cell_type": "markdown",
   "id": "39bdfbb2-2925-40cf-b167-e2631e5204f3",
   "metadata": {},
   "source": [
    "Inspect the last 5 data rows"
   ]
  },
  {
   "cell_type": "code",
   "execution_count": 56,
   "id": "e4dcd255-1b5a-40e9-b988-39efbeb93830",
   "metadata": {},
   "outputs": [
    {
     "data": {
      "text/html": [
       "<div>\n",
       "<style scoped>\n",
       "    .dataframe tbody tr th:only-of-type {\n",
       "        vertical-align: middle;\n",
       "    }\n",
       "\n",
       "    .dataframe tbody tr th {\n",
       "        vertical-align: top;\n",
       "    }\n",
       "\n",
       "    .dataframe thead th {\n",
       "        text-align: right;\n",
       "    }\n",
       "</style>\n",
       "<table border=\"1\" class=\"dataframe\">\n",
       "  <thead>\n",
       "    <tr style=\"text-align: right;\">\n",
       "      <th></th>\n",
       "      <th>Symbol</th>\n",
       "      <th>Exchange</th>\n",
       "      <th>Name</th>\n",
       "      <th>Last_Price</th>\n",
       "      <th>Market_Cap</th>\n",
       "      <th>ADR TSO</th>\n",
       "      <th>IPO_Year</th>\n",
       "      <th>Sector</th>\n",
       "      <th>Industry</th>\n",
       "    </tr>\n",
       "  </thead>\n",
       "  <tbody>\n",
       "    <tr>\n",
       "      <th>6847</th>\n",
       "      <td>ZUMZ</td>\n",
       "      <td>NASDAQ</td>\n",
       "      <td>Zumiez Inc.</td>\n",
       "      <td>26.72</td>\n",
       "      <td>681919062.56</td>\n",
       "      <td>NaN</td>\n",
       "      <td>2005.00</td>\n",
       "      <td>Consumer Services</td>\n",
       "      <td>Clothing/Shoe/Accessory Stores</td>\n",
       "    </tr>\n",
       "    <tr>\n",
       "      <th>6848</th>\n",
       "      <td>ZUO</td>\n",
       "      <td>NYSE</td>\n",
       "      <td>Zuora, Inc.</td>\n",
       "      <td>19.79</td>\n",
       "      <td>2147266454.00</td>\n",
       "      <td>NaN</td>\n",
       "      <td>2018.00</td>\n",
       "      <td>Technology</td>\n",
       "      <td>Computer Software: Prepackaged Software</td>\n",
       "    </tr>\n",
       "    <tr>\n",
       "      <th>6849</th>\n",
       "      <td>ZYME</td>\n",
       "      <td>NYSE</td>\n",
       "      <td>Zymeworks Inc.</td>\n",
       "      <td>15.74</td>\n",
       "      <td>504078206.26</td>\n",
       "      <td>NaN</td>\n",
       "      <td>2017.00</td>\n",
       "      <td>Health Care</td>\n",
       "      <td>Major Pharmaceuticals</td>\n",
       "    </tr>\n",
       "    <tr>\n",
       "      <th>6850</th>\n",
       "      <td>ZYNE</td>\n",
       "      <td>NASDAQ</td>\n",
       "      <td>Zynerba Pharmaceuticals, Inc.</td>\n",
       "      <td>7.85</td>\n",
       "      <td>165399468.60</td>\n",
       "      <td>NaN</td>\n",
       "      <td>2015.00</td>\n",
       "      <td>Health Care</td>\n",
       "      <td>Major Pharmaceuticals</td>\n",
       "    </tr>\n",
       "    <tr>\n",
       "      <th>6851</th>\n",
       "      <td>ZYXI</td>\n",
       "      <td>NASDAQ</td>\n",
       "      <td>Zynex, Inc.</td>\n",
       "      <td>5.02</td>\n",
       "      <td>161834880.48</td>\n",
       "      <td>NaN</td>\n",
       "      <td>NaN</td>\n",
       "      <td>Health Care</td>\n",
       "      <td>Biotechnology: Electromedical &amp; Electrotherape...</td>\n",
       "    </tr>\n",
       "  </tbody>\n",
       "</table>\n",
       "</div>"
      ],
      "text/plain": [
       "     Symbol Exchange                           Name  Last_Price    Market_Cap  \\\n",
       "6847   ZUMZ   NASDAQ                    Zumiez Inc.       26.72  681919062.56   \n",
       "6848    ZUO     NYSE                    Zuora, Inc.       19.79 2147266454.00   \n",
       "6849   ZYME     NYSE                 Zymeworks Inc.       15.74  504078206.26   \n",
       "6850   ZYNE   NASDAQ  Zynerba Pharmaceuticals, Inc.        7.85  165399468.60   \n",
       "6851   ZYXI   NASDAQ                    Zynex, Inc.        5.02  161834880.48   \n",
       "\n",
       "      ADR TSO  IPO_Year             Sector  \\\n",
       "6847      NaN   2005.00  Consumer Services   \n",
       "6848      NaN   2018.00         Technology   \n",
       "6849      NaN   2017.00        Health Care   \n",
       "6850      NaN   2015.00        Health Care   \n",
       "6851      NaN       NaN        Health Care   \n",
       "\n",
       "                                               Industry  \n",
       "6847                     Clothing/Shoe/Accessory Stores  \n",
       "6848            Computer Software: Prepackaged Software  \n",
       "6849                              Major Pharmaceuticals  \n",
       "6850                              Major Pharmaceuticals  \n",
       "6851  Biotechnology: Electromedical & Electrotherape...  "
      ]
     },
     "execution_count": 56,
     "metadata": {},
     "output_type": "execute_result"
    }
   ],
   "source": [
    "listings.tail()"
   ]
  },
  {
   "cell_type": "markdown",
   "id": "704828c4-abc9-45f6-be8e-c7d005b47f92",
   "metadata": {},
   "source": [
    "In the dataset there are 6852 data points (0-6852)"
   ]
  },
  {
   "cell_type": "markdown",
   "id": "16b42404-9611-4c5c-b10d-02aa7d62ce3b",
   "metadata": {},
   "source": [
    "Get critical information on the data"
   ]
  },
  {
   "cell_type": "code",
   "execution_count": 57,
   "id": "08464a71-4901-4ecf-954a-86ecb08b384d",
   "metadata": {},
   "outputs": [
    {
     "name": "stdout",
     "output_type": "stream",
     "text": [
      "<class 'pandas.core.frame.DataFrame'>\n",
      "RangeIndex: 6852 entries, 0 to 6851\n",
      "Data columns (total 9 columns):\n",
      " #   Column      Non-Null Count  Dtype  \n",
      "---  ------      --------------  -----  \n",
      " 0   Symbol      6852 non-null   object \n",
      " 1   Exchange    6852 non-null   object \n",
      " 2   Name        6852 non-null   object \n",
      " 3   Last_Price  6745 non-null   float64\n",
      " 4   Market_Cap  5954 non-null   float64\n",
      " 5   ADR TSO     140 non-null    float64\n",
      " 6   IPO_Year    3105 non-null   float64\n",
      " 7   Sector      5309 non-null   object \n",
      " 8   Industry    5309 non-null   object \n",
      "dtypes: float64(4), object(5)\n",
      "memory usage: 481.9+ KB\n"
     ]
    }
   ],
   "source": [
    "listings.info()"
   ]
  },
  {
   "cell_type": "markdown",
   "id": "29afaa3e-9cd6-4812-9e1f-83ddd3417e22",
   "metadata": {},
   "source": [
    "As it is clearly depicted we have NAN and Missing Values\n",
    "1. Last_Price -> There are missing 6852 - 6745 = 107\n",
    "2. Market_Cap -> There are missing 6852 - 5954 = 898\n",
    "3. ADR TSO -> There are many more missing than usual -> 6852 - 140 = 6712\n",
    "4. IPO_Year -> There are missing 6852 - 3105 = 3747\n",
    "5. Sector -> There are missing 6852 - 5309 = 1543\n",
    "6. Industry -> There are missing 6852 - 5309 = 1543"
   ]
  },
  {
   "cell_type": "code",
   "execution_count": 58,
   "id": "e43b659d-bec6-41e4-8820-17fff78a0ddf",
   "metadata": {},
   "outputs": [
    {
     "data": {
      "text/html": [
       "<div>\n",
       "<style scoped>\n",
       "    .dataframe tbody tr th:only-of-type {\n",
       "        vertical-align: middle;\n",
       "    }\n",
       "\n",
       "    .dataframe tbody tr th {\n",
       "        vertical-align: top;\n",
       "    }\n",
       "\n",
       "    .dataframe thead th {\n",
       "        text-align: right;\n",
       "    }\n",
       "</style>\n",
       "<table border=\"1\" class=\"dataframe\">\n",
       "  <thead>\n",
       "    <tr style=\"text-align: right;\">\n",
       "      <th></th>\n",
       "      <th>Last_Price</th>\n",
       "      <th>Market_Cap</th>\n",
       "      <th>ADR TSO</th>\n",
       "      <th>IPO_Year</th>\n",
       "    </tr>\n",
       "  </thead>\n",
       "  <tbody>\n",
       "    <tr>\n",
       "      <th>count</th>\n",
       "      <td>6745.00</td>\n",
       "      <td>5954.00</td>\n",
       "      <td>140.00</td>\n",
       "      <td>3105.00</td>\n",
       "    </tr>\n",
       "    <tr>\n",
       "      <th>mean</th>\n",
       "      <td>37.37</td>\n",
       "      <td>7174440219.09</td>\n",
       "      <td>58692415.09</td>\n",
       "      <td>2009.03</td>\n",
       "    </tr>\n",
       "    <tr>\n",
       "      <th>std</th>\n",
       "      <td>99.25</td>\n",
       "      <td>35254552925.59</td>\n",
       "      <td>162990861.90</td>\n",
       "      <td>9.34</td>\n",
       "    </tr>\n",
       "    <tr>\n",
       "      <th>min</th>\n",
       "      <td>0.00</td>\n",
       "      <td>0.00</td>\n",
       "      <td>24000.00</td>\n",
       "      <td>1972.00</td>\n",
       "    </tr>\n",
       "    <tr>\n",
       "      <th>25%</th>\n",
       "      <td>8.31</td>\n",
       "      <td>120376889.75</td>\n",
       "      <td>4271224.50</td>\n",
       "      <td>2003.00</td>\n",
       "    </tr>\n",
       "    <tr>\n",
       "      <th>50%</th>\n",
       "      <td>20.57</td>\n",
       "      <td>558517593.27</td>\n",
       "      <td>14069636.50</td>\n",
       "      <td>2013.00</td>\n",
       "    </tr>\n",
       "    <tr>\n",
       "      <th>75%</th>\n",
       "      <td>37.37</td>\n",
       "      <td>2888746939.46</td>\n",
       "      <td>39626126.50</td>\n",
       "      <td>2017.00</td>\n",
       "    </tr>\n",
       "    <tr>\n",
       "      <th>max</th>\n",
       "      <td>4299.99</td>\n",
       "      <td>945979473600.00</td>\n",
       "      <td>1485426467.00</td>\n",
       "      <td>2019.00</td>\n",
       "    </tr>\n",
       "  </tbody>\n",
       "</table>\n",
       "</div>"
      ],
      "text/plain": [
       "       Last_Price      Market_Cap       ADR TSO  IPO_Year\n",
       "count     6745.00         5954.00        140.00   3105.00\n",
       "mean        37.37   7174440219.09   58692415.09   2009.03\n",
       "std         99.25  35254552925.59  162990861.90      9.34\n",
       "min          0.00            0.00      24000.00   1972.00\n",
       "25%          8.31    120376889.75    4271224.50   2003.00\n",
       "50%         20.57    558517593.27   14069636.50   2013.00\n",
       "75%         37.37   2888746939.46   39626126.50   2017.00\n",
       "max       4299.99 945979473600.00 1485426467.00   2019.00"
      ]
     },
     "execution_count": 58,
     "metadata": {},
     "output_type": "execute_result"
    }
   ],
   "source": [
    "listings.describe()"
   ]
  },
  {
   "cell_type": "markdown",
   "id": "3206f31f-b78e-488f-a415-222b017ac48b",
   "metadata": {},
   "source": [
    "Interpretation Of Statistics:\n",
    "\n",
    "Last Price:\n",
    "1. 6745 entries of stocks in my dataset\n",
    "2. The average stock price is 37.37\n",
    "3. Prices vary very wide since the Standard Deviation is 99.25\n",
    "4. Min and Max prices indicate that there are very expensice stocks of 4299 and some penny stocks for 0.0003.\n",
    "\n",
    "Quartiles Analysis:\n",
    "1. 25% of the stocks prices are below 8.31\n",
    "2. 50% of the stocks are below 20.57\n",
    "3. 75% of the stocks are below 37.37\n",
    "4. Only 25% of stocks have high prices in our entries\n",
    "\n",
    "Market_Cap = Market Capitilization : value of outstanding shares\n",
    "1. 5954 entries in data with some missing data\n",
    "2. The average market cap is 7.17 billion, it is currenntly influenced by the large companies in stocks\n",
    "3. Very Large Variance 35.25 billion reflects that we have companies of different sizes\n",
    "4. Smallest Market Cap is 0 so that company is no longer trading\n",
    "5. Highest Market Cap: 945.98 billion\n",
    "\n",
    "Quartiles Analysis:\n",
    "1. 25% of the companies have market Cap below 120m\n",
    "3. 75% of companies are below 2.89 billion \n",
    "\n",
    "Diversity: The dataset includes companies of various sizes, ages, and stock price ranges, making it representative of a broad market spectrum.\n",
    "\n",
    "IPO Trends: A high proportion of companies went public after 2000, reflecting a growing market.\n",
    "\n"
   ]
  },
  {
   "cell_type": "code",
   "execution_count": 59,
   "id": "c2851c32-4f7c-47e6-b6ef-140aac92a20c",
   "metadata": {},
   "outputs": [
    {
     "data": {
      "text/plain": [
       "0          Agilent Technologies, Inc.\n",
       "1                   Alcoa Corporation\n",
       "2                         Altaba Inc.\n",
       "3                  AAC Holdings, Inc.\n",
       "4       American Airlines Group, Inc.\n",
       "                    ...              \n",
       "6847                      Zumiez Inc.\n",
       "6848                      Zuora, Inc.\n",
       "6849                   Zymeworks Inc.\n",
       "6850    Zynerba Pharmaceuticals, Inc.\n",
       "6851                      Zynex, Inc.\n",
       "Name: Name, Length: 6852, dtype: object"
      ]
     },
     "execution_count": 59,
     "metadata": {},
     "output_type": "execute_result"
    }
   ],
   "source": [
    "listings.Name"
   ]
  },
  {
   "cell_type": "markdown",
   "id": "dbfe3b09-3a0a-49fc-a024-ee55f6ca5615",
   "metadata": {},
   "source": [
    "Show the name of the companies for each stock"
   ]
  },
  {
   "cell_type": "markdown",
   "id": "ec209afc-6fe5-49bc-9844-311af881d23f",
   "metadata": {},
   "source": [
    "Find out the IPO Year of the MSFT and DIS"
   ]
  },
  {
   "cell_type": "code",
   "execution_count": 60,
   "id": "891b2ee7-163c-4d47-9464-e69e9754b015",
   "metadata": {},
   "outputs": [],
   "source": [
    "listings = pd.read_csv(\"listings.csv\", index_col = \"Symbol\")"
   ]
  },
  {
   "cell_type": "code",
   "execution_count": 61,
   "id": "7bd46cc8-fe67-4e5e-a72d-279902885754",
   "metadata": {},
   "outputs": [
    {
     "data": {
      "text/html": [
       "<div>\n",
       "<style scoped>\n",
       "    .dataframe tbody tr th:only-of-type {\n",
       "        vertical-align: middle;\n",
       "    }\n",
       "\n",
       "    .dataframe tbody tr th {\n",
       "        vertical-align: top;\n",
       "    }\n",
       "\n",
       "    .dataframe thead th {\n",
       "        text-align: right;\n",
       "    }\n",
       "</style>\n",
       "<table border=\"1\" class=\"dataframe\">\n",
       "  <thead>\n",
       "    <tr style=\"text-align: right;\">\n",
       "      <th></th>\n",
       "      <th>IPO_Year</th>\n",
       "      <th>Sector</th>\n",
       "      <th>Industry</th>\n",
       "    </tr>\n",
       "    <tr>\n",
       "      <th>Symbol</th>\n",
       "      <th></th>\n",
       "      <th></th>\n",
       "      <th></th>\n",
       "    </tr>\n",
       "  </thead>\n",
       "  <tbody>\n",
       "    <tr>\n",
       "      <th>MSFT</th>\n",
       "      <td>1986.00</td>\n",
       "      <td>Technology</td>\n",
       "      <td>Computer Software: Prepackaged Software</td>\n",
       "    </tr>\n",
       "    <tr>\n",
       "      <th>DIS</th>\n",
       "      <td>NaN</td>\n",
       "      <td>Consumer Services</td>\n",
       "      <td>Television Services</td>\n",
       "    </tr>\n",
       "  </tbody>\n",
       "</table>\n",
       "</div>"
      ],
      "text/plain": [
       "        IPO_Year             Sector                                 Industry\n",
       "Symbol                                                                      \n",
       "MSFT     1986.00         Technology  Computer Software: Prepackaged Software\n",
       "DIS          NaN  Consumer Services                      Television Services"
      ]
     },
     "execution_count": 61,
     "metadata": {},
     "output_type": "execute_result"
    }
   ],
   "source": [
    "listings.loc[[\"MSFT\", \"DIS\"], \"IPO_Year\":]"
   ]
  },
  {
   "cell_type": "markdown",
   "id": "7e1fac30-597e-47a0-9069-cc444425f7bf",
   "metadata": {},
   "source": [
    "The company Microsoft had started the IPO in 1986 while the Disney the data is NAN"
   ]
  },
  {
   "cell_type": "markdown",
   "id": "909fa08a-bfa6-4efe-adb3-f2cdf069de60",
   "metadata": {},
   "source": [
    "# Analyzing Columns & Pandas Series"
   ]
  },
  {
   "cell_type": "code",
   "execution_count": 62,
   "id": "19b67a37-7783-4409-8937-8a466caaf277",
   "metadata": {},
   "outputs": [],
   "source": [
    "price = listings.Last_Price.copy() # last Price = Last Traiding Price"
   ]
  },
  {
   "cell_type": "code",
   "execution_count": 63,
   "id": "210b6ae9-77e3-4e11-8783-8c3a4654edf7",
   "metadata": {},
   "outputs": [
    {
     "data": {
      "text/plain": [
       "Symbol\n",
       "A      81.68\n",
       "AA     29.15\n",
       "AABA   75.39\n",
       "AAC     2.16\n",
       "AAL    34.02\n",
       "AAMC   29.90\n",
       "AAME    2.48\n",
       "AAN    53.54\n",
       "AAOI   12.30\n",
       "AAON   44.88\n",
       "Name: Last_Price, dtype: float64"
      ]
     },
     "execution_count": 63,
     "metadata": {},
     "output_type": "execute_result"
    }
   ],
   "source": [
    "price.head(10)"
   ]
  },
  {
   "cell_type": "code",
   "execution_count": 64,
   "id": "7e3d5c7b-730c-4903-b5a4-7c0bab5d1765",
   "metadata": {},
   "outputs": [
    {
     "data": {
      "text/plain": [
       "count   6745.00\n",
       "mean      37.37\n",
       "std       99.25\n",
       "min        0.00\n",
       "25%        8.31\n",
       "50%       20.57\n",
       "75%       37.37\n",
       "max     4299.99\n",
       "Name: Last_Price, dtype: float64"
      ]
     },
     "execution_count": 64,
     "metadata": {},
     "output_type": "execute_result"
    }
   ],
   "source": [
    "price.describe()"
   ]
  },
  {
   "cell_type": "markdown",
   "id": "247fcb2b-22e1-477f-b16b-2d7c77845b7c",
   "metadata": {},
   "source": [
    "Interpretation\n",
    "1. We have 6745 prices for the stocks\n",
    "2. The mean price is 37.37\n",
    "3. The most expensive stock is 4299\n",
    "4. The Standard Deviation is 99 which mean the price between the stocks varies a lot."
   ]
  },
  {
   "cell_type": "code",
   "execution_count": 65,
   "id": "2c46e229-c8cc-4a3c-83b4-b801508252aa",
   "metadata": {},
   "outputs": [
    {
     "data": {
      "text/plain": [
       "Last_Price\n",
       "25.00     9\n",
       "9.73      9\n",
       "1.61      8\n",
       "2.50      8\n",
       "10.26     7\n",
       "         ..\n",
       "0.67      1\n",
       "103.36    1\n",
       "25.89     1\n",
       "7.77      1\n",
       "101.33    1\n",
       "Name: count, Length: 4470, dtype: int64"
      ]
     },
     "execution_count": 65,
     "metadata": {},
     "output_type": "execute_result"
    }
   ],
   "source": [
    "price.value_counts()"
   ]
  },
  {
   "cell_type": "markdown",
   "id": "ac31c7d7-9af9-4c97-95cb-e7213fbede97",
   "metadata": {},
   "source": [
    "The most frequent prices is between 25 and 9.73 for traiding a stock"
   ]
  },
  {
   "cell_type": "code",
   "execution_count": 66,
   "id": "1139bafc-e287-499d-a38e-6a299f99e1be",
   "metadata": {},
   "outputs": [
    {
     "data": {
      "text/plain": [
       "Last_Price\n",
       "25.00    0.00\n",
       "9.73     0.00\n",
       "1.61     0.00\n",
       "2.50     0.00\n",
       "10.26    0.00\n",
       "         ... \n",
       "0.67     0.00\n",
       "103.36   0.00\n",
       "25.89    0.00\n",
       "7.77     0.00\n",
       "101.33   0.00\n",
       "Name: proportion, Length: 4470, dtype: float64"
      ]
     },
     "execution_count": 66,
     "metadata": {},
     "output_type": "execute_result"
    }
   ],
   "source": [
    "price.value_counts(normalize = True)"
   ]
  },
  {
   "cell_type": "markdown",
   "id": "f47b9e12-c5a6-4645-8728-8c0cea810a1e",
   "metadata": {},
   "source": [
    "Interpretation:\n",
    "1. Interpretation: For every 1,000 stocks, approximately 1.33 stocks have a price of $25.00.\n"
   ]
  },
  {
   "cell_type": "code",
   "execution_count": 67,
   "id": "38b702e1-42c2-4f0f-ae59-ebf9831169d8",
   "metadata": {},
   "outputs": [
    {
     "data": {
      "text/plain": [
       "Symbol\n",
       "CYTXZ      0.00\n",
       "JASNW      0.00\n",
       "VEACW      0.01\n",
       "WHLRW      0.01\n",
       "SNOAW      0.01\n",
       "           ... \n",
       "TRNE.U      NaN\n",
       "UUUU.WS     NaN\n",
       "VST.WS.A    NaN\n",
       "WSO.B       NaN\n",
       "ZNWAA       NaN\n",
       "Name: Last_Price, Length: 6852, dtype: float64"
      ]
     },
     "execution_count": 67,
     "metadata": {},
     "output_type": "execute_result"
    }
   ],
   "source": [
    "price.sort_values()"
   ]
  },
  {
   "cell_type": "markdown",
   "id": "027f34c5-1f47-4429-82b3-df9d4e7ed2de",
   "metadata": {},
   "source": [
    "The lowest value is 0.003"
   ]
  },
  {
   "cell_type": "code",
   "execution_count": 68,
   "id": "00bf3585-3f39-41e2-8a85-d0dcc737f644",
   "metadata": {},
   "outputs": [
    {
     "data": {
      "text/plain": [
       "Symbol\n",
       "SEB        4299.99\n",
       "NVR        2910.42\n",
       "AMZN       1847.33\n",
       "BKNG       1806.00\n",
       "BAC^L      1316.70\n",
       "             ...  \n",
       "TRNE.U         NaN\n",
       "UUUU.WS        NaN\n",
       "VST.WS.A       NaN\n",
       "WSO.B          NaN\n",
       "ZNWAA          NaN\n",
       "Name: Last_Price, Length: 6852, dtype: float64"
      ]
     },
     "execution_count": 68,
     "metadata": {},
     "output_type": "execute_result"
    }
   ],
   "source": [
    "price.sort_values(ascending = False, inplace = True)\n",
    "price"
   ]
  },
  {
   "cell_type": "markdown",
   "id": "749a72ed-6c2f-4779-9f23-093417580b4c",
   "metadata": {},
   "source": [
    "The highest price currenlty is 4299$ for the SEB Stock Seaboard Corp"
   ]
  },
  {
   "cell_type": "code",
   "execution_count": 69,
   "id": "e6bc49fa-32df-4eb3-959b-8b9b5c9b062f",
   "metadata": {},
   "outputs": [],
   "source": [
    "# Sort the series price by the index\n",
    "price.sort_index(inplace = True)"
   ]
  },
  {
   "cell_type": "code",
   "execution_count": 70,
   "id": "5b4fb3f5-b8c4-452b-a037-82b56c2022e5",
   "metadata": {},
   "outputs": [
    {
     "data": {
      "text/plain": [
       "Symbol\n",
       "A      81.68\n",
       "AA     29.15\n",
       "AABA   75.39\n",
       "AAC     2.16\n",
       "AAL    34.02\n",
       "        ... \n",
       "ZUMZ   26.72\n",
       "ZUO    19.79\n",
       "ZYME   15.74\n",
       "ZYNE    7.85\n",
       "ZYXI    5.02\n",
       "Name: Last_Price, Length: 6852, dtype: float64"
      ]
     },
     "execution_count": 70,
     "metadata": {},
     "output_type": "execute_result"
    }
   ],
   "source": [
    "price"
   ]
  },
  {
   "cell_type": "markdown",
   "id": "cb9f447c-1176-4ffa-80f0-8b6072982872",
   "metadata": {},
   "source": [
    "# Pandas Index Operations"
   ]
  },
  {
   "cell_type": "code",
   "execution_count": 71,
   "id": "125eb24e-23c6-4d3d-9aca-7a40f723f89c",
   "metadata": {},
   "outputs": [
    {
     "data": {
      "text/plain": [
       "Index(['A', 'AA', 'AABA', 'AAC', 'AAL', 'AAMC', 'AAME', 'AAN', 'AAOI', 'AAON',\n",
       "       ...\n",
       "       'ZSAN', 'ZTEST', 'ZTO', 'ZTR', 'ZTS', 'ZUMZ', 'ZUO', 'ZYME', 'ZYNE',\n",
       "       'ZYXI'],\n",
       "      dtype='object', name='Symbol', length=6852)"
      ]
     },
     "execution_count": 71,
     "metadata": {},
     "output_type": "execute_result"
    }
   ],
   "source": [
    "listings.index"
   ]
  },
  {
   "cell_type": "code",
   "execution_count": 72,
   "id": "72b457aa-8570-407f-9d8b-14f80b214132",
   "metadata": {},
   "outputs": [
    {
     "data": {
      "text/plain": [
       "False"
      ]
     },
     "execution_count": 72,
     "metadata": {},
     "output_type": "execute_result"
    }
   ],
   "source": [
    "listings.index.is_unique"
   ]
  },
  {
   "cell_type": "markdown",
   "id": "6b95b381-5ce6-4498-9175-12776925a58f",
   "metadata": {},
   "source": [
    "Some index entries appear more than once, violating the uniqueness property of a typical DataFrame index"
   ]
  },
  {
   "cell_type": "code",
   "execution_count": 73,
   "id": "b9ae962c-501d-4d43-870e-6dacdb3acb57",
   "metadata": {},
   "outputs": [
    {
     "data": {
      "text/html": [
       "<div>\n",
       "<style scoped>\n",
       "    .dataframe tbody tr th:only-of-type {\n",
       "        vertical-align: middle;\n",
       "    }\n",
       "\n",
       "    .dataframe tbody tr th {\n",
       "        vertical-align: top;\n",
       "    }\n",
       "\n",
       "    .dataframe thead th {\n",
       "        text-align: right;\n",
       "    }\n",
       "</style>\n",
       "<table border=\"1\" class=\"dataframe\">\n",
       "  <thead>\n",
       "    <tr style=\"text-align: right;\">\n",
       "      <th></th>\n",
       "      <th>Exchange</th>\n",
       "      <th>Name</th>\n",
       "      <th>Last_Price</th>\n",
       "      <th>Market_Cap</th>\n",
       "      <th>ADR TSO</th>\n",
       "      <th>IPO_Year</th>\n",
       "      <th>Sector</th>\n",
       "      <th>Industry</th>\n",
       "    </tr>\n",
       "    <tr>\n",
       "      <th>Symbol</th>\n",
       "      <th></th>\n",
       "      <th></th>\n",
       "      <th></th>\n",
       "      <th></th>\n",
       "      <th></th>\n",
       "      <th></th>\n",
       "      <th></th>\n",
       "      <th></th>\n",
       "    </tr>\n",
       "  </thead>\n",
       "  <tbody>\n",
       "    <tr>\n",
       "      <th>AAPL</th>\n",
       "      <td>NASDAQ</td>\n",
       "      <td>Apple Inc.</td>\n",
       "      <td>200.62</td>\n",
       "      <td>945979473600.00</td>\n",
       "      <td>NaN</td>\n",
       "      <td>1980.00</td>\n",
       "      <td>Technology</td>\n",
       "      <td>Computer Manufacturing</td>\n",
       "    </tr>\n",
       "    <tr>\n",
       "      <th>MSFT</th>\n",
       "      <td>NASDAQ</td>\n",
       "      <td>Microsoft Corporation</td>\n",
       "      <td>120.19</td>\n",
       "      <td>922123334074.74</td>\n",
       "      <td>NaN</td>\n",
       "      <td>1986.00</td>\n",
       "      <td>Technology</td>\n",
       "      <td>Computer Software: Prepackaged Software</td>\n",
       "    </tr>\n",
       "    <tr>\n",
       "      <th>AMZN</th>\n",
       "      <td>NASDAQ</td>\n",
       "      <td>Amazon.com, Inc.</td>\n",
       "      <td>1847.33</td>\n",
       "      <td>907413834783.70</td>\n",
       "      <td>NaN</td>\n",
       "      <td>1997.00</td>\n",
       "      <td>Consumer Services</td>\n",
       "      <td>Catalog/Specialty Distribution</td>\n",
       "    </tr>\n",
       "  </tbody>\n",
       "</table>\n",
       "</div>"
      ],
      "text/plain": [
       "       Exchange                   Name  Last_Price      Market_Cap  ADR TSO  \\\n",
       "Symbol                                                                        \n",
       "AAPL     NASDAQ             Apple Inc.      200.62 945979473600.00      NaN   \n",
       "MSFT     NASDAQ  Microsoft Corporation      120.19 922123334074.74      NaN   \n",
       "AMZN     NASDAQ       Amazon.com, Inc.     1847.33 907413834783.70      NaN   \n",
       "\n",
       "        IPO_Year             Sector                                 Industry  \n",
       "Symbol                                                                        \n",
       "AAPL     1980.00         Technology                   Computer Manufacturing  \n",
       "MSFT     1986.00         Technology  Computer Software: Prepackaged Software  \n",
       "AMZN     1997.00  Consumer Services           Catalog/Specialty Distribution  "
      ]
     },
     "execution_count": 73,
     "metadata": {},
     "output_type": "execute_result"
    }
   ],
   "source": [
    "listings.sort_values(by = \"Market_Cap\", ascending = False, inplace= True)\n",
    "listings.head(3)"
   ]
  },
  {
   "cell_type": "markdown",
   "id": "08b8a19a-f495-4b35-b4d4-2cb489bb91b6",
   "metadata": {},
   "source": [
    "Sorting the values by Market Cap from High to low. The highest Capitalization in the data is from the Apple Company and Second is Microsoft"
   ]
  },
  {
   "cell_type": "code",
   "execution_count": 74,
   "id": "25075eb5-1ab9-490c-93ae-f06f9413be2a",
   "metadata": {},
   "outputs": [
    {
     "data": {
      "text/html": [
       "<div>\n",
       "<style scoped>\n",
       "    .dataframe tbody tr th:only-of-type {\n",
       "        vertical-align: middle;\n",
       "    }\n",
       "\n",
       "    .dataframe tbody tr th {\n",
       "        vertical-align: top;\n",
       "    }\n",
       "\n",
       "    .dataframe thead th {\n",
       "        text-align: right;\n",
       "    }\n",
       "</style>\n",
       "<table border=\"1\" class=\"dataframe\">\n",
       "  <thead>\n",
       "    <tr style=\"text-align: right;\">\n",
       "      <th></th>\n",
       "      <th>Exchange</th>\n",
       "      <th>Name</th>\n",
       "      <th>Last_Price</th>\n",
       "      <th>Market_Cap</th>\n",
       "      <th>ADR TSO</th>\n",
       "      <th>IPO_Year</th>\n",
       "      <th>Sector</th>\n",
       "      <th>Industry</th>\n",
       "    </tr>\n",
       "    <tr>\n",
       "      <th>Symbol</th>\n",
       "      <th></th>\n",
       "      <th></th>\n",
       "      <th></th>\n",
       "      <th></th>\n",
       "      <th></th>\n",
       "      <th></th>\n",
       "      <th></th>\n",
       "      <th></th>\n",
       "    </tr>\n",
       "  </thead>\n",
       "  <tbody>\n",
       "    <tr>\n",
       "      <th>AMAT</th>\n",
       "      <td>NASDAQ</td>\n",
       "      <td>Applied Materials, Inc.</td>\n",
       "      <td>42.17</td>\n",
       "      <td>40035886321.53</td>\n",
       "      <td>NaN</td>\n",
       "      <td>1972.00</td>\n",
       "      <td>Technology</td>\n",
       "      <td>Semiconductors</td>\n",
       "    </tr>\n",
       "    <tr>\n",
       "      <th>COKE</th>\n",
       "      <td>NASDAQ</td>\n",
       "      <td>Coca-Cola Consolidated, Inc.</td>\n",
       "      <td>294.70</td>\n",
       "      <td>2104584430.90</td>\n",
       "      <td>NaN</td>\n",
       "      <td>1972.00</td>\n",
       "      <td>Consumer Non-Durables</td>\n",
       "      <td>Beverages (Production/Distribution)</td>\n",
       "    </tr>\n",
       "    <tr>\n",
       "      <th>WDFC</th>\n",
       "      <td>NASDAQ</td>\n",
       "      <td>WD-40 Company</td>\n",
       "      <td>163.60</td>\n",
       "      <td>2257237298.40</td>\n",
       "      <td>NaN</td>\n",
       "      <td>1973.00</td>\n",
       "      <td>Basic Industries</td>\n",
       "      <td>Major Chemicals</td>\n",
       "    </tr>\n",
       "  </tbody>\n",
       "</table>\n",
       "</div>"
      ],
      "text/plain": [
       "       Exchange                          Name  Last_Price     Market_Cap  \\\n",
       "Symbol                                                                     \n",
       "AMAT     NASDAQ       Applied Materials, Inc.       42.17 40035886321.53   \n",
       "COKE     NASDAQ  Coca-Cola Consolidated, Inc.      294.70  2104584430.90   \n",
       "WDFC     NASDAQ                 WD-40 Company      163.60  2257237298.40   \n",
       "\n",
       "        ADR TSO  IPO_Year                 Sector  \\\n",
       "Symbol                                             \n",
       "AMAT        NaN   1972.00             Technology   \n",
       "COKE        NaN   1972.00  Consumer Non-Durables   \n",
       "WDFC        NaN   1973.00       Basic Industries   \n",
       "\n",
       "                                   Industry  \n",
       "Symbol                                       \n",
       "AMAT                         Semiconductors  \n",
       "COKE    Beverages (Production/Distribution)  \n",
       "WDFC                        Major Chemicals  "
      ]
     },
     "execution_count": 74,
     "metadata": {},
     "output_type": "execute_result"
    }
   ],
   "source": [
    "listings.sort_values([\"IPO_Year\", \"Market_Cap\"], ascending = [True, False], inplace = True)\n",
    "listings.head(3)"
   ]
  },
  {
   "cell_type": "markdown",
   "id": "dd069fe4-1c25-4b6f-bf66-db3b0aaadf09",
   "metadata": {},
   "source": [
    "Sort the values by IPO_Year(ascending) and Market Price (Descending) . The oldest company in the IPO Year is the AMAT Applied Materials, it is traded on NASDAQ in the Technology Sector"
   ]
  },
  {
   "cell_type": "code",
   "execution_count": 75,
   "id": "e37d3469-5a22-4c00-a555-34e72dbc369b",
   "metadata": {},
   "outputs": [
    {
     "data": {
      "text/plain": [
       "Exchange         3\n",
       "Name          5766\n",
       "Last_Price    4470\n",
       "Market_Cap    5835\n",
       "ADR TSO        140\n",
       "IPO_Year        42\n",
       "Sector          12\n",
       "Industry       135\n",
       "dtype: int64"
      ]
     },
     "execution_count": 75,
     "metadata": {},
     "output_type": "execute_result"
    }
   ],
   "source": [
    "listings.nunique()"
   ]
  },
  {
   "cell_type": "markdown",
   "id": "4917cf57-80a8-46dd-96e0-33e38b55e3ba",
   "metadata": {},
   "source": [
    "It is clearly show that the data is from 3 Stock Exchange Marketplaces"
   ]
  },
  {
   "cell_type": "code",
   "execution_count": 76,
   "id": "ad4f0c6c-3456-48a9-8b31-d64e7ca67fd0",
   "metadata": {},
   "outputs": [
    {
     "data": {
      "text/plain": [
       "array(['NASDAQ', 'NYSE', 'AMEX'], dtype=object)"
      ]
     },
     "execution_count": 76,
     "metadata": {},
     "output_type": "execute_result"
    }
   ],
   "source": [
    "listings['Exchange'].unique()"
   ]
  },
  {
   "cell_type": "markdown",
   "id": "65ddfd10-3051-4ef3-982c-80468ddb5d9d",
   "metadata": {},
   "source": [
    "The martketplaces in the data are NASDAQ, NYSE, AMEX"
   ]
  },
  {
   "cell_type": "code",
   "execution_count": 77,
   "id": "d7c0e134-0438-415b-98e3-af1cd530f961",
   "metadata": {},
   "outputs": [
    {
     "data": {
      "text/html": [
       "<div>\n",
       "<style scoped>\n",
       "    .dataframe tbody tr th:only-of-type {\n",
       "        vertical-align: middle;\n",
       "    }\n",
       "\n",
       "    .dataframe tbody tr th {\n",
       "        vertical-align: top;\n",
       "    }\n",
       "\n",
       "    .dataframe thead th {\n",
       "        text-align: right;\n",
       "    }\n",
       "</style>\n",
       "<table border=\"1\" class=\"dataframe\">\n",
       "  <thead>\n",
       "    <tr style=\"text-align: right;\">\n",
       "      <th></th>\n",
       "      <th>Exchange</th>\n",
       "      <th>Name</th>\n",
       "      <th>Last_Price</th>\n",
       "      <th>Market_Cap</th>\n",
       "      <th>ADR TSO</th>\n",
       "      <th>IPO_Year</th>\n",
       "      <th>Sector</th>\n",
       "      <th>Industry</th>\n",
       "    </tr>\n",
       "    <tr>\n",
       "      <th>Symbol</th>\n",
       "      <th></th>\n",
       "      <th></th>\n",
       "      <th></th>\n",
       "      <th></th>\n",
       "      <th></th>\n",
       "      <th></th>\n",
       "      <th></th>\n",
       "      <th></th>\n",
       "    </tr>\n",
       "  </thead>\n",
       "  <tbody>\n",
       "    <tr>\n",
       "      <th>AAPL</th>\n",
       "      <td>NASDAQ</td>\n",
       "      <td>Apple Inc.</td>\n",
       "      <td>200.62</td>\n",
       "      <td>945979473600.00</td>\n",
       "      <td>NaN</td>\n",
       "      <td>1980.00</td>\n",
       "      <td>Technology</td>\n",
       "      <td>Computer Manufacturing</td>\n",
       "    </tr>\n",
       "    <tr>\n",
       "      <th>MSFT</th>\n",
       "      <td>NASDAQ</td>\n",
       "      <td>Microsoft Corporation</td>\n",
       "      <td>120.19</td>\n",
       "      <td>922123334074.74</td>\n",
       "      <td>NaN</td>\n",
       "      <td>1986.00</td>\n",
       "      <td>Technology</td>\n",
       "      <td>Computer Software: Prepackaged Software</td>\n",
       "    </tr>\n",
       "    <tr>\n",
       "      <th>AMZN</th>\n",
       "      <td>NASDAQ</td>\n",
       "      <td>Amazon.com, Inc.</td>\n",
       "      <td>1847.33</td>\n",
       "      <td>907413834783.70</td>\n",
       "      <td>NaN</td>\n",
       "      <td>1997.00</td>\n",
       "      <td>Consumer Services</td>\n",
       "      <td>Catalog/Specialty Distribution</td>\n",
       "    </tr>\n",
       "    <tr>\n",
       "      <th>GOOGL</th>\n",
       "      <td>NASDAQ</td>\n",
       "      <td>Alphabet Inc.</td>\n",
       "      <td>1206.45</td>\n",
       "      <td>838707627454.20</td>\n",
       "      <td>NaN</td>\n",
       "      <td>NaN</td>\n",
       "      <td>Technology</td>\n",
       "      <td>Computer Software: Programming, Data Processing</td>\n",
       "    </tr>\n",
       "    <tr>\n",
       "      <th>GOOG</th>\n",
       "      <td>NASDAQ</td>\n",
       "      <td>Alphabet Inc.</td>\n",
       "      <td>1202.16</td>\n",
       "      <td>835725277815.36</td>\n",
       "      <td>NaN</td>\n",
       "      <td>2004.00</td>\n",
       "      <td>Technology</td>\n",
       "      <td>Computer Software: Programming, Data Processing</td>\n",
       "    </tr>\n",
       "  </tbody>\n",
       "</table>\n",
       "</div>"
      ],
      "text/plain": [
       "       Exchange                   Name  Last_Price      Market_Cap  ADR TSO  \\\n",
       "Symbol                                                                        \n",
       "AAPL     NASDAQ             Apple Inc.      200.62 945979473600.00      NaN   \n",
       "MSFT     NASDAQ  Microsoft Corporation      120.19 922123334074.74      NaN   \n",
       "AMZN     NASDAQ       Amazon.com, Inc.     1847.33 907413834783.70      NaN   \n",
       "GOOGL    NASDAQ          Alphabet Inc.     1206.45 838707627454.20      NaN   \n",
       "GOOG     NASDAQ          Alphabet Inc.     1202.16 835725277815.36      NaN   \n",
       "\n",
       "        IPO_Year             Sector  \\\n",
       "Symbol                                \n",
       "AAPL     1980.00         Technology   \n",
       "MSFT     1986.00         Technology   \n",
       "AMZN     1997.00  Consumer Services   \n",
       "GOOGL        NaN         Technology   \n",
       "GOOG     2004.00         Technology   \n",
       "\n",
       "                                               Industry  \n",
       "Symbol                                                   \n",
       "AAPL                             Computer Manufacturing  \n",
       "MSFT            Computer Software: Prepackaged Software  \n",
       "AMZN                     Catalog/Specialty Distribution  \n",
       "GOOGL   Computer Software: Programming, Data Processing  \n",
       "GOOG    Computer Software: Programming, Data Processing  "
      ]
     },
     "execution_count": 77,
     "metadata": {},
     "output_type": "execute_result"
    }
   ],
   "source": [
    "listings.nlargest(n = 5, columns = \"Market_Cap\")"
   ]
  },
  {
   "cell_type": "markdown",
   "id": "c8c54bbf-7d2b-429f-ab0d-d5d605b13083",
   "metadata": {},
   "source": [
    "The 3 companies that have the largest Market Cap are AAPL, Microsoft, Amazon and GOOGLE"
   ]
  },
  {
   "cell_type": "code",
   "execution_count": 78,
   "id": "c9892c6c-aab7-4d75-9fc0-e403b0f7438f",
   "metadata": {},
   "outputs": [
    {
     "data": {
      "text/html": [
       "<div>\n",
       "<style scoped>\n",
       "    .dataframe tbody tr th:only-of-type {\n",
       "        vertical-align: middle;\n",
       "    }\n",
       "\n",
       "    .dataframe tbody tr th {\n",
       "        vertical-align: top;\n",
       "    }\n",
       "\n",
       "    .dataframe thead th {\n",
       "        text-align: right;\n",
       "    }\n",
       "</style>\n",
       "<table border=\"1\" class=\"dataframe\">\n",
       "  <thead>\n",
       "    <tr style=\"text-align: right;\">\n",
       "      <th></th>\n",
       "      <th>Exchange</th>\n",
       "      <th>Name</th>\n",
       "      <th>Last_Price</th>\n",
       "      <th>Market_Cap</th>\n",
       "      <th>ADR TSO</th>\n",
       "      <th>IPO_Year</th>\n",
       "      <th>Sector</th>\n",
       "      <th>Industry</th>\n",
       "    </tr>\n",
       "    <tr>\n",
       "      <th>Symbol</th>\n",
       "      <th></th>\n",
       "      <th></th>\n",
       "      <th></th>\n",
       "      <th></th>\n",
       "      <th></th>\n",
       "      <th></th>\n",
       "      <th></th>\n",
       "      <th></th>\n",
       "    </tr>\n",
       "  </thead>\n",
       "  <tbody>\n",
       "    <tr>\n",
       "      <th>CYTXZ</th>\n",
       "      <td>NASDAQ</td>\n",
       "      <td>Cytori Therapeutics Inc.</td>\n",
       "      <td>0.00</td>\n",
       "      <td>NaN</td>\n",
       "      <td>NaN</td>\n",
       "      <td>NaN</td>\n",
       "      <td>Health Care</td>\n",
       "      <td>Medical/Dental Instruments</td>\n",
       "    </tr>\n",
       "    <tr>\n",
       "      <th>JASNW</th>\n",
       "      <td>NASDAQ</td>\n",
       "      <td>Jason Industries, Inc.</td>\n",
       "      <td>0.00</td>\n",
       "      <td>NaN</td>\n",
       "      <td>NaN</td>\n",
       "      <td>2013.00</td>\n",
       "      <td>Consumer Durables</td>\n",
       "      <td>Miscellaneous manufacturing industries</td>\n",
       "    </tr>\n",
       "    <tr>\n",
       "      <th>VEACW</th>\n",
       "      <td>NASDAQ</td>\n",
       "      <td>Vantage Energy Acquisition Corp.</td>\n",
       "      <td>0.01</td>\n",
       "      <td>NaN</td>\n",
       "      <td>NaN</td>\n",
       "      <td>2017.00</td>\n",
       "      <td>Finance</td>\n",
       "      <td>Business Services</td>\n",
       "    </tr>\n",
       "  </tbody>\n",
       "</table>\n",
       "</div>"
      ],
      "text/plain": [
       "       Exchange                              Name  Last_Price  Market_Cap  \\\n",
       "Symbol                                                                      \n",
       "CYTXZ    NASDAQ          Cytori Therapeutics Inc.        0.00         NaN   \n",
       "JASNW    NASDAQ            Jason Industries, Inc.        0.00         NaN   \n",
       "VEACW    NASDAQ  Vantage Energy Acquisition Corp.        0.01         NaN   \n",
       "\n",
       "        ADR TSO  IPO_Year             Sector  \\\n",
       "Symbol                                         \n",
       "CYTXZ       NaN       NaN        Health Care   \n",
       "JASNW       NaN   2013.00  Consumer Durables   \n",
       "VEACW       NaN   2017.00            Finance   \n",
       "\n",
       "                                      Industry  \n",
       "Symbol                                          \n",
       "CYTXZ               Medical/Dental Instruments  \n",
       "JASNW   Miscellaneous manufacturing industries  \n",
       "VEACW                        Business Services  "
      ]
     },
     "execution_count": 78,
     "metadata": {},
     "output_type": "execute_result"
    }
   ],
   "source": [
    "listings.nsmallest(n = 3, columns = \"Last_Price\")"
   ]
  },
  {
   "cell_type": "markdown",
   "id": "82379078-a288-4ea8-ab14-e566312f67fa",
   "metadata": {},
   "source": [
    "The company with the lowest price in Stocks is Cytori Theraputics, Jason Industries and Vantage Energy Acquisition"
   ]
  },
  {
   "cell_type": "markdown",
   "id": "d717ed62-6b29-43a1-ad43-33ae89534549",
   "metadata": {},
   "source": [
    "### Create a mast to check the stocks that are traided on NASDAQ"
   ]
  },
  {
   "cell_type": "code",
   "execution_count": 79,
   "id": "09d4d5cf-f4c2-4b45-8e36-727b0ef1380d",
   "metadata": {},
   "outputs": [
    {
     "data": {
      "text/plain": [
       "('NASDAQ', 'NYSE', 'AMEX')"
      ]
     },
     "execution_count": 79,
     "metadata": {},
     "output_type": "execute_result"
    }
   ],
   "source": [
    "nas = listings.Exchange == \"NASDAQ\"\n",
    "nyse = listings.Exchange == \"NYSE\"\n",
    "amex = listings.Exchange == \"AMEX\"\n",
    "'NASDAQ', 'NYSE', 'AMEX'"
   ]
  },
  {
   "cell_type": "code",
   "execution_count": 80,
   "id": "ebbbd3b1-ceb0-4ac7-a534-d4a3cc5d68e5",
   "metadata": {},
   "outputs": [],
   "source": [
    "# Check all the stocks that have less than 5 bucks\n",
    "bucks = listings.Last_Price < 5"
   ]
  },
  {
   "cell_type": "code",
   "execution_count": 81,
   "id": "58554257-2aac-484c-9379-233a2f7169f3",
   "metadata": {},
   "outputs": [
    {
     "data": {
      "text/plain": [
       "Symbol\n",
       "AMAT     False\n",
       "COKE     False\n",
       "WDFC     False\n",
       "AAPL     False\n",
       "KLAC     False\n",
       "         ...  \n",
       "ZB^A     False\n",
       "ZB^G     False\n",
       "ZB^H     False\n",
       "ZIONW    False\n",
       "ZTEST    False\n",
       "Name: Last_Price, Length: 6852, dtype: bool"
      ]
     },
     "execution_count": 81,
     "metadata": {},
     "output_type": "execute_result"
    }
   ],
   "source": [
    "bucks"
   ]
  },
  {
   "cell_type": "markdown",
   "id": "45c5215b-552c-4fde-aba6-f34b0c934b9b",
   "metadata": {},
   "source": [
    "Create a dataframe only for the companies that are traded on NASDAQ Marketplace"
   ]
  },
  {
   "cell_type": "code",
   "execution_count": 82,
   "id": "799eaced-0aa1-4857-9bcd-e79adcd92821",
   "metadata": {},
   "outputs": [],
   "source": [
    "nasdaq = listings.loc[nas].copy()"
   ]
  },
  {
   "cell_type": "code",
   "execution_count": 83,
   "id": "4f43c08b-7550-4c23-9be7-12dba60ca9b2",
   "metadata": {},
   "outputs": [
    {
     "data": {
      "text/html": [
       "<div>\n",
       "<style scoped>\n",
       "    .dataframe tbody tr th:only-of-type {\n",
       "        vertical-align: middle;\n",
       "    }\n",
       "\n",
       "    .dataframe tbody tr th {\n",
       "        vertical-align: top;\n",
       "    }\n",
       "\n",
       "    .dataframe thead th {\n",
       "        text-align: right;\n",
       "    }\n",
       "</style>\n",
       "<table border=\"1\" class=\"dataframe\">\n",
       "  <thead>\n",
       "    <tr style=\"text-align: right;\">\n",
       "      <th></th>\n",
       "      <th>Exchange</th>\n",
       "      <th>Name</th>\n",
       "      <th>Last_Price</th>\n",
       "      <th>Market_Cap</th>\n",
       "      <th>ADR TSO</th>\n",
       "      <th>IPO_Year</th>\n",
       "      <th>Sector</th>\n",
       "      <th>Industry</th>\n",
       "    </tr>\n",
       "    <tr>\n",
       "      <th>Symbol</th>\n",
       "      <th></th>\n",
       "      <th></th>\n",
       "      <th></th>\n",
       "      <th></th>\n",
       "      <th></th>\n",
       "      <th></th>\n",
       "      <th></th>\n",
       "      <th></th>\n",
       "    </tr>\n",
       "  </thead>\n",
       "  <tbody>\n",
       "    <tr>\n",
       "      <th>AMAT</th>\n",
       "      <td>NASDAQ</td>\n",
       "      <td>Applied Materials, Inc.</td>\n",
       "      <td>42.17</td>\n",
       "      <td>40035886321.53</td>\n",
       "      <td>NaN</td>\n",
       "      <td>1972.00</td>\n",
       "      <td>Technology</td>\n",
       "      <td>Semiconductors</td>\n",
       "    </tr>\n",
       "    <tr>\n",
       "      <th>COKE</th>\n",
       "      <td>NASDAQ</td>\n",
       "      <td>Coca-Cola Consolidated, Inc.</td>\n",
       "      <td>294.70</td>\n",
       "      <td>2104584430.90</td>\n",
       "      <td>NaN</td>\n",
       "      <td>1972.00</td>\n",
       "      <td>Consumer Non-Durables</td>\n",
       "      <td>Beverages (Production/Distribution)</td>\n",
       "    </tr>\n",
       "    <tr>\n",
       "      <th>WDFC</th>\n",
       "      <td>NASDAQ</td>\n",
       "      <td>WD-40 Company</td>\n",
       "      <td>163.60</td>\n",
       "      <td>2257237298.40</td>\n",
       "      <td>NaN</td>\n",
       "      <td>1973.00</td>\n",
       "      <td>Basic Industries</td>\n",
       "      <td>Major Chemicals</td>\n",
       "    </tr>\n",
       "  </tbody>\n",
       "</table>\n",
       "</div>"
      ],
      "text/plain": [
       "       Exchange                          Name  Last_Price     Market_Cap  \\\n",
       "Symbol                                                                     \n",
       "AMAT     NASDAQ       Applied Materials, Inc.       42.17 40035886321.53   \n",
       "COKE     NASDAQ  Coca-Cola Consolidated, Inc.      294.70  2104584430.90   \n",
       "WDFC     NASDAQ                 WD-40 Company      163.60  2257237298.40   \n",
       "\n",
       "        ADR TSO  IPO_Year                 Sector  \\\n",
       "Symbol                                             \n",
       "AMAT        NaN   1972.00             Technology   \n",
       "COKE        NaN   1972.00  Consumer Non-Durables   \n",
       "WDFC        NaN   1973.00       Basic Industries   \n",
       "\n",
       "                                   Industry  \n",
       "Symbol                                       \n",
       "AMAT                         Semiconductors  \n",
       "COKE    Beverages (Production/Distribution)  \n",
       "WDFC                        Major Chemicals  "
      ]
     },
     "execution_count": 83,
     "metadata": {},
     "output_type": "execute_result"
    }
   ],
   "source": [
    "nasdaq.head(3)"
   ]
  },
  {
   "cell_type": "markdown",
   "id": "54cd05a7-fefe-4060-a4b3-f9aed755724d",
   "metadata": {},
   "source": [
    "Create a separate dataframe for stocks traded in each marketplace"
   ]
  },
  {
   "cell_type": "code",
   "execution_count": 84,
   "id": "bc287b9a-6c8c-4fdb-aede-a03dbee7a144",
   "metadata": {},
   "outputs": [],
   "source": [
    "NYSE = listings.loc[nyse].copy()"
   ]
  },
  {
   "cell_type": "code",
   "execution_count": 85,
   "id": "f20f720a-1c88-48c6-938a-cf1563934bd8",
   "metadata": {},
   "outputs": [],
   "source": [
    "AMEX = listings.loc[amex].copy()"
   ]
  },
  {
   "cell_type": "markdown",
   "id": "6408050f-b756-40c2-ba0e-51b8b087864c",
   "metadata": {},
   "source": [
    "Create a dataframe for stocks that are traided less than 5 bucks"
   ]
  },
  {
   "cell_type": "code",
   "execution_count": 86,
   "id": "b58e1e95-abc8-4984-b9eb-f26b7e97b1db",
   "metadata": {},
   "outputs": [],
   "source": [
    "cheap_stocks = listings.loc[bucks].copy()"
   ]
  },
  {
   "cell_type": "code",
   "execution_count": 87,
   "id": "de74d61a-9ccc-4cda-a747-7d05a918ef9e",
   "metadata": {},
   "outputs": [
    {
     "data": {
      "text/html": [
       "<div>\n",
       "<style scoped>\n",
       "    .dataframe tbody tr th:only-of-type {\n",
       "        vertical-align: middle;\n",
       "    }\n",
       "\n",
       "    .dataframe tbody tr th {\n",
       "        vertical-align: top;\n",
       "    }\n",
       "\n",
       "    .dataframe thead th {\n",
       "        text-align: right;\n",
       "    }\n",
       "</style>\n",
       "<table border=\"1\" class=\"dataframe\">\n",
       "  <thead>\n",
       "    <tr style=\"text-align: right;\">\n",
       "      <th></th>\n",
       "      <th>Exchange</th>\n",
       "      <th>Name</th>\n",
       "      <th>Last_Price</th>\n",
       "      <th>Market_Cap</th>\n",
       "      <th>ADR TSO</th>\n",
       "      <th>IPO_Year</th>\n",
       "      <th>Sector</th>\n",
       "      <th>Industry</th>\n",
       "    </tr>\n",
       "    <tr>\n",
       "      <th>Symbol</th>\n",
       "      <th></th>\n",
       "      <th></th>\n",
       "      <th></th>\n",
       "      <th></th>\n",
       "      <th></th>\n",
       "      <th></th>\n",
       "      <th></th>\n",
       "      <th></th>\n",
       "    </tr>\n",
       "  </thead>\n",
       "  <tbody>\n",
       "    <tr>\n",
       "      <th>LYTS</th>\n",
       "      <td>NASDAQ</td>\n",
       "      <td>LSI Industries Inc.</td>\n",
       "      <td>2.99</td>\n",
       "      <td>77408035.25</td>\n",
       "      <td>NaN</td>\n",
       "      <td>1985.00</td>\n",
       "      <td>Consumer Durables</td>\n",
       "      <td>Building Products</td>\n",
       "    </tr>\n",
       "    <tr>\n",
       "      <th>FAX</th>\n",
       "      <td>AMEX</td>\n",
       "      <td>Aberdeen Asia-Pacific Income Fund Inc</td>\n",
       "      <td>4.14</td>\n",
       "      <td>1042993611.36</td>\n",
       "      <td>NaN</td>\n",
       "      <td>1986.00</td>\n",
       "      <td>NaN</td>\n",
       "      <td>NaN</td>\n",
       "    </tr>\n",
       "    <tr>\n",
       "      <th>CYTR</th>\n",
       "      <td>NASDAQ</td>\n",
       "      <td>CytRx Corporation</td>\n",
       "      <td>0.66</td>\n",
       "      <td>22200750.66</td>\n",
       "      <td>NaN</td>\n",
       "      <td>1986.00</td>\n",
       "      <td>Health Care</td>\n",
       "      <td>Biotechnology: Biological Products (No Diagnos...</td>\n",
       "    </tr>\n",
       "  </tbody>\n",
       "</table>\n",
       "</div>"
      ],
      "text/plain": [
       "       Exchange                                   Name  Last_Price  \\\n",
       "Symbol                                                               \n",
       "LYTS     NASDAQ                    LSI Industries Inc.        2.99   \n",
       "FAX        AMEX  Aberdeen Asia-Pacific Income Fund Inc        4.14   \n",
       "CYTR     NASDAQ                      CytRx Corporation        0.66   \n",
       "\n",
       "          Market_Cap  ADR TSO  IPO_Year             Sector  \\\n",
       "Symbol                                                       \n",
       "LYTS     77408035.25      NaN   1985.00  Consumer Durables   \n",
       "FAX    1042993611.36      NaN   1986.00                NaN   \n",
       "CYTR     22200750.66      NaN   1986.00        Health Care   \n",
       "\n",
       "                                                 Industry  \n",
       "Symbol                                                     \n",
       "LYTS                                    Building Products  \n",
       "FAX                                                   NaN  \n",
       "CYTR    Biotechnology: Biological Products (No Diagnos...  "
      ]
     },
     "execution_count": 87,
     "metadata": {},
     "output_type": "execute_result"
    }
   ],
   "source": [
    "cheap_stocks.head(3)"
   ]
  },
  {
   "cell_type": "code",
   "execution_count": 88,
   "id": "76233ea4-da39-4b51-94e4-344ac09a5ac8",
   "metadata": {},
   "outputs": [],
   "source": [
    "cheap_stocks.sort_values(by = 'Last_Price', ascending = True, inplace = True  )"
   ]
  },
  {
   "cell_type": "code",
   "execution_count": 89,
   "id": "ccc7420f-1041-4998-b66e-5b24bcb75293",
   "metadata": {},
   "outputs": [
    {
     "data": {
      "text/html": [
       "<div>\n",
       "<style scoped>\n",
       "    .dataframe tbody tr th:only-of-type {\n",
       "        vertical-align: middle;\n",
       "    }\n",
       "\n",
       "    .dataframe tbody tr th {\n",
       "        vertical-align: top;\n",
       "    }\n",
       "\n",
       "    .dataframe thead th {\n",
       "        text-align: right;\n",
       "    }\n",
       "</style>\n",
       "<table border=\"1\" class=\"dataframe\">\n",
       "  <thead>\n",
       "    <tr style=\"text-align: right;\">\n",
       "      <th></th>\n",
       "      <th>Exchange</th>\n",
       "      <th>Name</th>\n",
       "      <th>Last_Price</th>\n",
       "      <th>Market_Cap</th>\n",
       "      <th>ADR TSO</th>\n",
       "      <th>IPO_Year</th>\n",
       "      <th>Sector</th>\n",
       "      <th>Industry</th>\n",
       "    </tr>\n",
       "    <tr>\n",
       "      <th>Symbol</th>\n",
       "      <th></th>\n",
       "      <th></th>\n",
       "      <th></th>\n",
       "      <th></th>\n",
       "      <th></th>\n",
       "      <th></th>\n",
       "      <th></th>\n",
       "      <th></th>\n",
       "    </tr>\n",
       "  </thead>\n",
       "  <tbody>\n",
       "    <tr>\n",
       "      <th>CYTXZ</th>\n",
       "      <td>NASDAQ</td>\n",
       "      <td>Cytori Therapeutics Inc.</td>\n",
       "      <td>0.00</td>\n",
       "      <td>NaN</td>\n",
       "      <td>NaN</td>\n",
       "      <td>NaN</td>\n",
       "      <td>Health Care</td>\n",
       "      <td>Medical/Dental Instruments</td>\n",
       "    </tr>\n",
       "    <tr>\n",
       "      <th>JASNW</th>\n",
       "      <td>NASDAQ</td>\n",
       "      <td>Jason Industries, Inc.</td>\n",
       "      <td>0.00</td>\n",
       "      <td>NaN</td>\n",
       "      <td>NaN</td>\n",
       "      <td>2013.00</td>\n",
       "      <td>Consumer Durables</td>\n",
       "      <td>Miscellaneous manufacturing industries</td>\n",
       "    </tr>\n",
       "    <tr>\n",
       "      <th>VEACW</th>\n",
       "      <td>NASDAQ</td>\n",
       "      <td>Vantage Energy Acquisition Corp.</td>\n",
       "      <td>0.01</td>\n",
       "      <td>NaN</td>\n",
       "      <td>NaN</td>\n",
       "      <td>2017.00</td>\n",
       "      <td>Finance</td>\n",
       "      <td>Business Services</td>\n",
       "    </tr>\n",
       "  </tbody>\n",
       "</table>\n",
       "</div>"
      ],
      "text/plain": [
       "       Exchange                              Name  Last_Price  Market_Cap  \\\n",
       "Symbol                                                                      \n",
       "CYTXZ    NASDAQ          Cytori Therapeutics Inc.        0.00         NaN   \n",
       "JASNW    NASDAQ            Jason Industries, Inc.        0.00         NaN   \n",
       "VEACW    NASDAQ  Vantage Energy Acquisition Corp.        0.01         NaN   \n",
       "\n",
       "        ADR TSO  IPO_Year             Sector  \\\n",
       "Symbol                                         \n",
       "CYTXZ       NaN       NaN        Health Care   \n",
       "JASNW       NaN   2013.00  Consumer Durables   \n",
       "VEACW       NaN   2017.00            Finance   \n",
       "\n",
       "                                      Industry  \n",
       "Symbol                                          \n",
       "CYTXZ               Medical/Dental Instruments  \n",
       "JASNW   Miscellaneous manufacturing industries  \n",
       "VEACW                        Business Services  "
      ]
     },
     "execution_count": 89,
     "metadata": {},
     "output_type": "execute_result"
    }
   ],
   "source": [
    "cheap_stocks.head(3)"
   ]
  },
  {
   "cell_type": "markdown",
   "id": "cbdda23c-512c-4830-be1b-d0fa5a2b59d4",
   "metadata": {},
   "source": [
    "Find the cheap stocks per Marketplace"
   ]
  },
  {
   "cell_type": "code",
   "execution_count": 90,
   "id": "09da7e7a-af79-4754-be2d-d932bedeacf9",
   "metadata": {},
   "outputs": [],
   "source": [
    "nasdaq = listings[listings['Exchange'] == 'NASDAQ']  # Filter NASDAQ stocks\n",
    "nyse = listings[listings['Exchange'] == 'NYSE']  # Filter NYSE stocks\n",
    "amex = listings[listings['Exchange'] == 'AMEX']  # Filter AMEX stocks\n",
    "bucks = nasdaq['Last_Price'] < 5    "
   ]
  },
  {
   "cell_type": "code",
   "execution_count": 91,
   "id": "ac7fef82-7ef8-4102-a825-a8d1217d7f2d",
   "metadata": {},
   "outputs": [],
   "source": [
    "nasdaq_cheap_stocks = nasdaq[bucks]"
   ]
  },
  {
   "cell_type": "code",
   "execution_count": 92,
   "id": "5f78323d-0b49-4710-a671-c828f0591b2d",
   "metadata": {},
   "outputs": [
    {
     "data": {
      "text/html": [
       "<div>\n",
       "<style scoped>\n",
       "    .dataframe tbody tr th:only-of-type {\n",
       "        vertical-align: middle;\n",
       "    }\n",
       "\n",
       "    .dataframe tbody tr th {\n",
       "        vertical-align: top;\n",
       "    }\n",
       "\n",
       "    .dataframe thead th {\n",
       "        text-align: right;\n",
       "    }\n",
       "</style>\n",
       "<table border=\"1\" class=\"dataframe\">\n",
       "  <thead>\n",
       "    <tr style=\"text-align: right;\">\n",
       "      <th></th>\n",
       "      <th>Exchange</th>\n",
       "      <th>Name</th>\n",
       "      <th>Last_Price</th>\n",
       "      <th>Market_Cap</th>\n",
       "      <th>ADR TSO</th>\n",
       "      <th>IPO_Year</th>\n",
       "      <th>Sector</th>\n",
       "      <th>Industry</th>\n",
       "    </tr>\n",
       "    <tr>\n",
       "      <th>Symbol</th>\n",
       "      <th></th>\n",
       "      <th></th>\n",
       "      <th></th>\n",
       "      <th></th>\n",
       "      <th></th>\n",
       "      <th></th>\n",
       "      <th></th>\n",
       "      <th></th>\n",
       "    </tr>\n",
       "  </thead>\n",
       "  <tbody>\n",
       "    <tr>\n",
       "      <th>ORCL</th>\n",
       "      <td>NYSE</td>\n",
       "      <td>Oracle Corporation</td>\n",
       "      <td>53.97</td>\n",
       "      <td>184450786380.00</td>\n",
       "      <td>NaN</td>\n",
       "      <td>1986.00</td>\n",
       "      <td>Technology</td>\n",
       "      <td>Computer Software: Prepackaged Software</td>\n",
       "    </tr>\n",
       "    <tr>\n",
       "      <th>MKL</th>\n",
       "      <td>NYSE</td>\n",
       "      <td>Markel Corporation</td>\n",
       "      <td>979.66</td>\n",
       "      <td>13583293513.24</td>\n",
       "      <td>NaN</td>\n",
       "      <td>1986.00</td>\n",
       "      <td>Finance</td>\n",
       "      <td>Property-Casualty Insurers</td>\n",
       "    </tr>\n",
       "    <tr>\n",
       "      <th>BPL</th>\n",
       "      <td>NYSE</td>\n",
       "      <td>Buckeye Partners L.P.</td>\n",
       "      <td>33.61</td>\n",
       "      <td>5169119152.99</td>\n",
       "      <td>NaN</td>\n",
       "      <td>1986.00</td>\n",
       "      <td>Energy</td>\n",
       "      <td>Natural Gas Distribution</td>\n",
       "    </tr>\n",
       "  </tbody>\n",
       "</table>\n",
       "</div>"
      ],
      "text/plain": [
       "       Exchange                   Name  Last_Price      Market_Cap  ADR TSO  \\\n",
       "Symbol                                                                        \n",
       "ORCL       NYSE     Oracle Corporation       53.97 184450786380.00      NaN   \n",
       "MKL        NYSE     Markel Corporation      979.66  13583293513.24      NaN   \n",
       "BPL        NYSE  Buckeye Partners L.P.       33.61   5169119152.99      NaN   \n",
       "\n",
       "        IPO_Year      Sector                                 Industry  \n",
       "Symbol                                                                 \n",
       "ORCL     1986.00  Technology  Computer Software: Prepackaged Software  \n",
       "MKL      1986.00     Finance               Property-Casualty Insurers  \n",
       "BPL      1986.00      Energy                 Natural Gas Distribution  "
      ]
     },
     "execution_count": 92,
     "metadata": {},
     "output_type": "execute_result"
    }
   ],
   "source": [
    "nyse.head(3)"
   ]
  },
  {
   "cell_type": "code",
   "execution_count": 93,
   "id": "0270cd40-f28d-43ec-835b-709ce7ece28f",
   "metadata": {},
   "outputs": [
    {
     "name": "stdout",
     "output_type": "stream",
     "text": [
      "<class 'pandas.core.frame.DataFrame'>\n",
      "Index: 852 entries, LYTS to WHLRW\n",
      "Data columns (total 8 columns):\n",
      " #   Column      Non-Null Count  Dtype  \n",
      "---  ------      --------------  -----  \n",
      " 0   Exchange    852 non-null    object \n",
      " 1   Name        852 non-null    object \n",
      " 2   Last_Price  852 non-null    float64\n",
      " 3   Market_Cap  712 non-null    float64\n",
      " 4   ADR TSO     49 non-null     float64\n",
      " 5   IPO_Year    425 non-null    float64\n",
      " 6   Sector      843 non-null    object \n",
      " 7   Industry    843 non-null    object \n",
      "dtypes: float64(4), object(4)\n",
      "memory usage: 59.9+ KB\n"
     ]
    }
   ],
   "source": [
    "nasdaq_cheap_stocks.info()"
   ]
  },
  {
   "cell_type": "markdown",
   "id": "8904017c-8699-4b90-9408-858e40767934",
   "metadata": {},
   "source": [
    "There are 852 stocks that are being traded on Nasdaq with a price less than 5$ "
   ]
  },
  {
   "cell_type": "markdown",
   "id": "4fe1c6df-929e-425e-8c76-d3ac1be0d6f0",
   "metadata": {},
   "source": [
    "NA Values and Summary Statistics"
   ]
  },
  {
   "cell_type": "code",
   "execution_count": 94,
   "id": "6bbcff99-61d8-4aa6-800c-518c1ce7a85e",
   "metadata": {},
   "outputs": [],
   "source": [
    "pd.options.display.float_format = '{:.2f}'.format"
   ]
  },
  {
   "cell_type": "markdown",
   "id": "c5fbfc57-9a23-437d-a9fa-e572e3ed8674",
   "metadata": {},
   "source": [
    "Check how many values we have missing per column"
   ]
  },
  {
   "cell_type": "code",
   "execution_count": 95,
   "id": "dc19fb54-72f7-4333-977c-a73dad8b1f42",
   "metadata": {},
   "outputs": [
    {
     "data": {
      "text/plain": [
       "Exchange         0\n",
       "Name             0\n",
       "Last_Price     107\n",
       "Market_Cap     898\n",
       "ADR TSO       6712\n",
       "IPO_Year      3747\n",
       "Sector        1543\n",
       "Industry      1543\n",
       "dtype: int64"
      ]
     },
     "execution_count": 95,
     "metadata": {},
     "output_type": "execute_result"
    }
   ],
   "source": [
    "listings.isna().sum(axis = 0)"
   ]
  },
  {
   "cell_type": "markdown",
   "id": "70aad75a-a064-477c-a644-bb0e552c1954",
   "metadata": {},
   "source": [
    "Fill all NA values in the Last Price with 0"
   ]
  },
  {
   "cell_type": "code",
   "execution_count": 98,
   "id": "6f1a5df4-51bb-43fe-9de5-0c9f02cce327",
   "metadata": {},
   "outputs": [],
   "source": [
    "listings[\"Last_Price\"] = listings[\"Last_Price\"].fillna(0)"
   ]
  },
  {
   "cell_type": "code",
   "execution_count": 99,
   "id": "909ef291-dfbc-4b98-aa93-4502c05f36f1",
   "metadata": {},
   "outputs": [
    {
     "data": {
      "text/html": [
       "<div>\n",
       "<style scoped>\n",
       "    .dataframe tbody tr th:only-of-type {\n",
       "        vertical-align: middle;\n",
       "    }\n",
       "\n",
       "    .dataframe tbody tr th {\n",
       "        vertical-align: top;\n",
       "    }\n",
       "\n",
       "    .dataframe thead th {\n",
       "        text-align: right;\n",
       "    }\n",
       "</style>\n",
       "<table border=\"1\" class=\"dataframe\">\n",
       "  <thead>\n",
       "    <tr style=\"text-align: right;\">\n",
       "      <th></th>\n",
       "      <th>Exchange</th>\n",
       "      <th>Name</th>\n",
       "      <th>Last_Price</th>\n",
       "      <th>Market_Cap</th>\n",
       "      <th>ADR TSO</th>\n",
       "      <th>IPO_Year</th>\n",
       "      <th>Sector</th>\n",
       "      <th>Industry</th>\n",
       "    </tr>\n",
       "    <tr>\n",
       "      <th>Symbol</th>\n",
       "      <th></th>\n",
       "      <th></th>\n",
       "      <th></th>\n",
       "      <th></th>\n",
       "      <th></th>\n",
       "      <th></th>\n",
       "      <th></th>\n",
       "      <th></th>\n",
       "    </tr>\n",
       "  </thead>\n",
       "  <tbody>\n",
       "    <tr>\n",
       "      <th>AMAT</th>\n",
       "      <td>NASDAQ</td>\n",
       "      <td>Applied Materials, Inc.</td>\n",
       "      <td>42.17</td>\n",
       "      <td>40035886321.53</td>\n",
       "      <td>NaN</td>\n",
       "      <td>1972.00</td>\n",
       "      <td>Technology</td>\n",
       "      <td>Semiconductors</td>\n",
       "    </tr>\n",
       "    <tr>\n",
       "      <th>COKE</th>\n",
       "      <td>NASDAQ</td>\n",
       "      <td>Coca-Cola Consolidated, Inc.</td>\n",
       "      <td>294.70</td>\n",
       "      <td>2104584430.90</td>\n",
       "      <td>NaN</td>\n",
       "      <td>1972.00</td>\n",
       "      <td>Consumer Non-Durables</td>\n",
       "      <td>Beverages (Production/Distribution)</td>\n",
       "    </tr>\n",
       "    <tr>\n",
       "      <th>WDFC</th>\n",
       "      <td>NASDAQ</td>\n",
       "      <td>WD-40 Company</td>\n",
       "      <td>163.60</td>\n",
       "      <td>2257237298.40</td>\n",
       "      <td>NaN</td>\n",
       "      <td>1973.00</td>\n",
       "      <td>Basic Industries</td>\n",
       "      <td>Major Chemicals</td>\n",
       "    </tr>\n",
       "  </tbody>\n",
       "</table>\n",
       "</div>"
      ],
      "text/plain": [
       "       Exchange                          Name  Last_Price     Market_Cap  \\\n",
       "Symbol                                                                     \n",
       "AMAT     NASDAQ       Applied Materials, Inc.       42.17 40035886321.53   \n",
       "COKE     NASDAQ  Coca-Cola Consolidated, Inc.      294.70  2104584430.90   \n",
       "WDFC     NASDAQ                 WD-40 Company      163.60  2257237298.40   \n",
       "\n",
       "        ADR TSO  IPO_Year                 Sector  \\\n",
       "Symbol                                             \n",
       "AMAT        NaN   1972.00             Technology   \n",
       "COKE        NaN   1972.00  Consumer Non-Durables   \n",
       "WDFC        NaN   1973.00       Basic Industries   \n",
       "\n",
       "                                   Industry  \n",
       "Symbol                                       \n",
       "AMAT                         Semiconductors  \n",
       "COKE    Beverages (Production/Distribution)  \n",
       "WDFC                        Major Chemicals  "
      ]
     },
     "execution_count": 99,
     "metadata": {},
     "output_type": "execute_result"
    }
   ],
   "source": [
    "listings.head(3)"
   ]
  },
  {
   "cell_type": "markdown",
   "id": "b3879446-c6c6-4a9f-a9f3-f05f43339702",
   "metadata": {},
   "source": [
    "For the IPO Year save all the existing rows in a dataframe"
   ]
  },
  {
   "cell_type": "code",
   "execution_count": 100,
   "id": "3d90a88d-aca1-4056-9f81-0f60ec167c3d",
   "metadata": {},
   "outputs": [],
   "source": [
    "exist_year = listings.loc[listings.IPO_Year.notna()]"
   ]
  },
  {
   "cell_type": "code",
   "execution_count": 102,
   "id": "c1807092-38fc-4f9b-8226-44f4a96788e0",
   "metadata": {},
   "outputs": [
    {
     "data": {
      "text/plain": [
       "<bound method DataFrame.min of        Exchange                                        Name  Last_Price  \\\n",
       "Symbol                                                                    \n",
       "AMAT     NASDAQ                     Applied Materials, Inc.       42.17   \n",
       "COKE     NASDAQ                Coca-Cola Consolidated, Inc.      294.70   \n",
       "WDFC     NASDAQ                               WD-40 Company      163.60   \n",
       "AAPL     NASDAQ                                  Apple Inc.      200.62   \n",
       "KLAC     NASDAQ                      KLA-Tencor Corporation      123.34   \n",
       "...         ...                                         ...         ...   \n",
       "RMG        NYSE                       RMG Acquisition Corp.        9.77   \n",
       "SAMAW    NASDAQ  Schultze Special Purpose Acquisition Corp.        0.36   \n",
       "TEAF       NYSE  Tortoise Essential Assets Income Term Fund       20.08   \n",
       "THCBU    NASDAQ                       Tuscan Holdings Corp.       10.45   \n",
       "THCBW    NASDAQ                       Tuscan Holdings Corp.        0.68   \n",
       "\n",
       "            Market_Cap  ADR TSO  IPO_Year                 Sector  \\\n",
       "Symbol                                                             \n",
       "AMAT    40035886321.53      NaN   1972.00             Technology   \n",
       "COKE     2104584430.90      NaN   1972.00  Consumer Non-Durables   \n",
       "WDFC     2257237298.40      NaN   1973.00       Basic Industries   \n",
       "AAPL   945979473600.00      NaN   1980.00             Technology   \n",
       "KLAC    20186316279.92      NaN   1980.00          Capital Goods   \n",
       "...                ...      ...       ...                    ...   \n",
       "RMG                NaN      NaN   2019.00                Finance   \n",
       "SAMAW              NaN      NaN   2019.00                Finance   \n",
       "TEAF               NaN      NaN   2019.00                    NaN   \n",
       "THCBU              NaN      NaN   2019.00                Finance   \n",
       "THCBW              NaN      NaN   2019.00                Finance   \n",
       "\n",
       "                                   Industry  \n",
       "Symbol                                       \n",
       "AMAT                         Semiconductors  \n",
       "COKE    Beverages (Production/Distribution)  \n",
       "WDFC                        Major Chemicals  \n",
       "AAPL                 Computer Manufacturing  \n",
       "KLAC                  Electronic Components  \n",
       "...                                     ...  \n",
       "RMG                       Business Services  \n",
       "SAMAW                     Business Services  \n",
       "TEAF                                    NaN  \n",
       "THCBU                     Business Services  \n",
       "THCBW                     Business Services  \n",
       "\n",
       "[3105 rows x 8 columns]>"
      ]
     },
     "execution_count": 102,
     "metadata": {},
     "output_type": "execute_result"
    }
   ],
   "source": [
    "exist_year.min"
   ]
  },
  {
   "cell_type": "markdown",
   "id": "b1f5f2f7-a1eb-41fc-bcfa-dac64049b28d",
   "metadata": {},
   "source": [
    "IPO_Year information is not available for stocks with an IPO prior to 1970 \n",
    "#### (Although this is not the right way to handle missing data)"
   ]
  },
  {
   "cell_type": "code",
   "execution_count": 103,
   "id": "4e45d7b2-440c-4148-b660-88583dbb6011",
   "metadata": {},
   "outputs": [],
   "source": [
    "listings[\"IPO_Year\"] = listings[\"IPO_Year\"].fillna(1969)"
   ]
  },
  {
   "cell_type": "markdown",
   "id": "ce9b71ef-68cb-47d0-9c9d-d1883c02c83f",
   "metadata": {},
   "source": [
    "Convert the listings integer"
   ]
  },
  {
   "cell_type": "code",
   "execution_count": 105,
   "id": "bba1c826-94c5-40ab-8cc8-5dddce8f35b4",
   "metadata": {},
   "outputs": [],
   "source": [
    "listings.IPO_Year = listings.IPO_Year.astype(\"int\")"
   ]
  },
  {
   "cell_type": "markdown",
   "id": "f094e5fd-958a-414c-afee-ab3155a1282e",
   "metadata": {},
   "source": [
    "Create the correlation Matrix"
   ]
  },
  {
   "cell_type": "code",
   "execution_count": 107,
   "id": "70c8478e-3c24-4195-a6d2-a9538a7f45bb",
   "metadata": {},
   "outputs": [
    {
     "data": {
      "text/html": [
       "<div>\n",
       "<style scoped>\n",
       "    .dataframe tbody tr th:only-of-type {\n",
       "        vertical-align: middle;\n",
       "    }\n",
       "\n",
       "    .dataframe tbody tr th {\n",
       "        vertical-align: top;\n",
       "    }\n",
       "\n",
       "    .dataframe thead th {\n",
       "        text-align: right;\n",
       "    }\n",
       "</style>\n",
       "<table border=\"1\" class=\"dataframe\">\n",
       "  <thead>\n",
       "    <tr style=\"text-align: right;\">\n",
       "      <th></th>\n",
       "      <th>Last_Price</th>\n",
       "      <th>Market_Cap</th>\n",
       "      <th>ADR TSO</th>\n",
       "      <th>IPO_Year</th>\n",
       "    </tr>\n",
       "  </thead>\n",
       "  <tbody>\n",
       "    <tr>\n",
       "      <th>Last_Price</th>\n",
       "      <td>1.00</td>\n",
       "      <td>0.31</td>\n",
       "      <td>0.07</td>\n",
       "      <td>-0.06</td>\n",
       "    </tr>\n",
       "    <tr>\n",
       "      <th>Market_Cap</th>\n",
       "      <td>0.31</td>\n",
       "      <td>1.00</td>\n",
       "      <td>0.47</td>\n",
       "      <td>-0.07</td>\n",
       "    </tr>\n",
       "    <tr>\n",
       "      <th>ADR TSO</th>\n",
       "      <td>0.07</td>\n",
       "      <td>0.47</td>\n",
       "      <td>1.00</td>\n",
       "      <td>-0.16</td>\n",
       "    </tr>\n",
       "    <tr>\n",
       "      <th>IPO_Year</th>\n",
       "      <td>-0.06</td>\n",
       "      <td>-0.07</td>\n",
       "      <td>-0.16</td>\n",
       "      <td>1.00</td>\n",
       "    </tr>\n",
       "  </tbody>\n",
       "</table>\n",
       "</div>"
      ],
      "text/plain": [
       "            Last_Price  Market_Cap  ADR TSO  IPO_Year\n",
       "Last_Price        1.00        0.31     0.07     -0.06\n",
       "Market_Cap        0.31        1.00     0.47     -0.07\n",
       "ADR TSO           0.07        0.47     1.00     -0.16\n",
       "IPO_Year         -0.06       -0.07    -0.16      1.00"
      ]
     },
     "execution_count": 107,
     "metadata": {},
     "output_type": "execute_result"
    }
   ],
   "source": [
    "listings.corr(numeric_only = True)"
   ]
  },
  {
   "cell_type": "markdown",
   "id": "21584316-bd0f-4549-84de-40e78dc174bd",
   "metadata": {},
   "source": [
    "Intepretation - Business Insights\n",
    "1. Last price is does not have any high correlation with the columns of this dataset thus it is not influenced that much by any of the columns\n",
    "2. Market Cap has a moderate correlation with, companies with larger market caps might issue more ADR shares"
   ]
  },
  {
   "cell_type": "markdown",
   "id": "a7dd9372-c019-4113-92df-6f8202faffd9",
   "metadata": {},
   "source": [
    "#### Create Column Share\n",
    "It is the total amount of shares outstanding\n",
    "\n",
    "Formula = Divide Market Cap with Last Price"
   ]
  },
  {
   "cell_type": "code",
   "execution_count": 108,
   "id": "b132b1ab-7fcb-484c-b6a2-677fb9f6747e",
   "metadata": {},
   "outputs": [],
   "source": [
    "listings[\"Shares\"] = listings.Market_Cap.div(listings.Last_Price)"
   ]
  },
  {
   "cell_type": "code",
   "execution_count": 110,
   "id": "fad7a5ea-2486-4264-a12d-049b33fbbdfb",
   "metadata": {},
   "outputs": [
    {
     "data": {
      "text/html": [
       "<div>\n",
       "<style scoped>\n",
       "    .dataframe tbody tr th:only-of-type {\n",
       "        vertical-align: middle;\n",
       "    }\n",
       "\n",
       "    .dataframe tbody tr th {\n",
       "        vertical-align: top;\n",
       "    }\n",
       "\n",
       "    .dataframe thead th {\n",
       "        text-align: right;\n",
       "    }\n",
       "</style>\n",
       "<table border=\"1\" class=\"dataframe\">\n",
       "  <thead>\n",
       "    <tr style=\"text-align: right;\">\n",
       "      <th></th>\n",
       "      <th>Exchange</th>\n",
       "      <th>Name</th>\n",
       "      <th>Last_Price</th>\n",
       "      <th>Market_Cap</th>\n",
       "      <th>ADR TSO</th>\n",
       "      <th>IPO_Year</th>\n",
       "      <th>Sector</th>\n",
       "      <th>Industry</th>\n",
       "      <th>Shares</th>\n",
       "    </tr>\n",
       "    <tr>\n",
       "      <th>Symbol</th>\n",
       "      <th></th>\n",
       "      <th></th>\n",
       "      <th></th>\n",
       "      <th></th>\n",
       "      <th></th>\n",
       "      <th></th>\n",
       "      <th></th>\n",
       "      <th></th>\n",
       "      <th></th>\n",
       "    </tr>\n",
       "  </thead>\n",
       "  <tbody>\n",
       "    <tr>\n",
       "      <th>AMAT</th>\n",
       "      <td>NASDAQ</td>\n",
       "      <td>Applied Materials, Inc.</td>\n",
       "      <td>42.17</td>\n",
       "      <td>40035886321.53</td>\n",
       "      <td>NaN</td>\n",
       "      <td>1972</td>\n",
       "      <td>Technology</td>\n",
       "      <td>Semiconductors</td>\n",
       "      <td>949392609.00</td>\n",
       "    </tr>\n",
       "    <tr>\n",
       "      <th>COKE</th>\n",
       "      <td>NASDAQ</td>\n",
       "      <td>Coca-Cola Consolidated, Inc.</td>\n",
       "      <td>294.70</td>\n",
       "      <td>2104584430.90</td>\n",
       "      <td>NaN</td>\n",
       "      <td>1972</td>\n",
       "      <td>Consumer Non-Durables</td>\n",
       "      <td>Beverages (Production/Distribution)</td>\n",
       "      <td>7141447.00</td>\n",
       "    </tr>\n",
       "    <tr>\n",
       "      <th>WDFC</th>\n",
       "      <td>NASDAQ</td>\n",
       "      <td>WD-40 Company</td>\n",
       "      <td>163.60</td>\n",
       "      <td>2257237298.40</td>\n",
       "      <td>NaN</td>\n",
       "      <td>1973</td>\n",
       "      <td>Basic Industries</td>\n",
       "      <td>Major Chemicals</td>\n",
       "      <td>13797294.00</td>\n",
       "    </tr>\n",
       "  </tbody>\n",
       "</table>\n",
       "</div>"
      ],
      "text/plain": [
       "       Exchange                          Name  Last_Price     Market_Cap  \\\n",
       "Symbol                                                                     \n",
       "AMAT     NASDAQ       Applied Materials, Inc.       42.17 40035886321.53   \n",
       "COKE     NASDAQ  Coca-Cola Consolidated, Inc.      294.70  2104584430.90   \n",
       "WDFC     NASDAQ                 WD-40 Company      163.60  2257237298.40   \n",
       "\n",
       "        ADR TSO  IPO_Year                 Sector  \\\n",
       "Symbol                                             \n",
       "AMAT        NaN      1972             Technology   \n",
       "COKE        NaN      1972  Consumer Non-Durables   \n",
       "WDFC        NaN      1973       Basic Industries   \n",
       "\n",
       "                                   Industry       Shares  \n",
       "Symbol                                                    \n",
       "AMAT                         Semiconductors 949392609.00  \n",
       "COKE    Beverages (Production/Distribution)   7141447.00  \n",
       "WDFC                        Major Chemicals  13797294.00  "
      ]
     },
     "execution_count": 110,
     "metadata": {},
     "output_type": "execute_result"
    }
   ],
   "source": [
    "listings.head(3)"
   ]
  },
  {
   "cell_type": "markdown",
   "id": "c131f33d-54f8-49e3-a864-6cc22152fdae",
   "metadata": {},
   "source": [
    "Calculate the mean, max, min price for each exchange marketplace"
   ]
  },
  {
   "cell_type": "code",
   "execution_count": 112,
   "id": "c7e32cb5-732e-4612-ab07-a306a4dec53e",
   "metadata": {},
   "outputs": [
    {
     "data": {
      "text/plain": [
       "Exchange\n",
       "AMEX     24.24\n",
       "NASDAQ   32.27\n",
       "NYSE     43.04\n",
       "Name: Last_Price, dtype: float64"
      ]
     },
     "execution_count": 112,
     "metadata": {},
     "output_type": "execute_result"
    }
   ],
   "source": [
    "listings.groupby(\"Exchange\").Last_Price.mean()"
   ]
  },
  {
   "cell_type": "code",
   "execution_count": 113,
   "id": "cd18c2c5-7e12-4e5a-96bc-148a154f0ffc",
   "metadata": {},
   "outputs": [
    {
     "data": {
      "text/plain": [
       "Exchange\n",
       "AMEX     4299.99\n",
       "NASDAQ   1847.33\n",
       "NYSE     2910.42\n",
       "Name: Last_Price, dtype: float64"
      ]
     },
     "execution_count": 113,
     "metadata": {},
     "output_type": "execute_result"
    }
   ],
   "source": [
    "listings.groupby(\"Exchange\").Last_Price.max()"
   ]
  },
  {
   "cell_type": "code",
   "execution_count": 114,
   "id": "e3314687-32bb-4709-a9c9-b9347b318fef",
   "metadata": {},
   "outputs": [
    {
     "data": {
      "text/plain": [
       "Exchange\n",
       "AMEX     0.00\n",
       "NASDAQ   0.00\n",
       "NYSE     0.00\n",
       "Name: Last_Price, dtype: float64"
      ]
     },
     "execution_count": 114,
     "metadata": {},
     "output_type": "execute_result"
    }
   ],
   "source": [
    "listings.groupby(\"Exchange\").Last_Price.min()"
   ]
  },
  {
   "cell_type": "code",
   "execution_count": null,
   "id": "0f8d90d5-6d21-472d-a781-22728ccd5792",
   "metadata": {},
   "outputs": [],
   "source": []
  }
 ],
 "metadata": {
  "kernelspec": {
   "display_name": "Python 3 (ipykernel)",
   "language": "python",
   "name": "python3"
  },
  "language_info": {
   "codemirror_mode": {
    "name": "ipython",
    "version": 3
   },
   "file_extension": ".py",
   "mimetype": "text/x-python",
   "name": "python",
   "nbconvert_exporter": "python",
   "pygments_lexer": "ipython3",
   "version": "3.12.8"
  }
 },
 "nbformat": 4,
 "nbformat_minor": 5
}
